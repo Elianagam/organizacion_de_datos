{
 "cells": [
  {
   "cell_type": "markdown",
   "metadata": {},
   "source": [
    "### Guia de ejercicios spark"
   ]
  },
  {
   "cell_type": "code",
   "execution_count": 1,
   "metadata": {},
   "outputs": [],
   "source": [
    "import pyspark\n",
    "try:\n",
    "    type(sc)\n",
    "except NameError:\n",
    "    sc = pyspark.SparkContext('local[*]')"
   ]
  },
  {
   "cell_type": "code",
   "execution_count": null,
   "metadata": {},
   "outputs": [],
   "source": [
    "# Notas alumnos: (padron, materia, nota, fecha)\n",
    "# Cuantos alumnos aprobaron al menos 1 materia en los ultimos 2 años\n",
    "# Un rdd conteniendo el promedio de notas de cada alumno (padron promedio)\n",
    "# El nombre y apellido del mejor promedio. rdd=(padron, nombre, apellido)"
   ]
  },
  {
   "cell_type": "code",
   "execution_count": 15,
   "metadata": {},
   "outputs": [],
   "source": [
    "notas = [\n",
    "    (100016, 1, 8, 20200218),\n",
    "    (100011, 1, 1, 20200218),\n",
    "    (100012, 1, 2, 20200218),\n",
    "    (100013, 1, 6, 20180218),\n",
    "    (100016, 1, 5, 20200218),\n",
    "    (100014, 1, 10, 20200218),\n",
    "    (100011, 1, 4, 20190218),\n",
    "    (100011, 1, 9, 20160218),\n",
    "    (100012, 1, 2, 20200218),\n",
    "    ]"
   ]
  },
  {
   "cell_type": "code",
   "execution_count": 53,
   "metadata": {},
   "outputs": [],
   "source": [
    "alumnos = [\n",
    "    (100016,\"eliana\", \"gamarra\"),\n",
    "    (100011,\"pepe\", \"mujica\"),\n",
    "    (100012,\"aldo\", \"aldepo\"),\n",
    "    (100014,\"camila\", \"jasto\"),\n",
    "    (100013,\"macri\", \"turro\"),\n",
    "    \n",
    "]\n",
    "\n",
    "rdd_alumnos = sc.parallelize(alumnos)"
   ]
  },
  {
   "cell_type": "code",
   "execution_count": 16,
   "metadata": {},
   "outputs": [],
   "source": [
    "rrd_notas = sc.parallelize(notas)"
   ]
  },
  {
   "cell_type": "code",
   "execution_count": 20,
   "metadata": {},
   "outputs": [
    {
     "data": {
      "text/plain": [
       "3"
      ]
     },
     "execution_count": 20,
     "metadata": {},
     "output_type": "execute_result"
    }
   ],
   "source": [
    "aprobado_1 = rrd_notas.filter(lambda x: x[3] > 20181231)\\\n",
    "                    .map(lambda x: (x[0], x[2] > 3))\\\n",
    "                    .reduceByKey(lambda x,y: x|y)\\\n",
    "                    .filter(lambda x: x[1] != False)\\\n",
    "                    .count()\n",
    "    \n",
    "aprobado_1"
   ]
  },
  {
   "cell_type": "code",
   "execution_count": 23,
   "metadata": {},
   "outputs": [
    {
     "data": {
      "text/plain": [
       "[(100016, 13.0),\n",
       " (100012, 4.0),\n",
       " (100013, 12.0),\n",
       " (100014, 20.0),\n",
       " (100011, 9.333333333333334)]"
      ]
     },
     "execution_count": 23,
     "metadata": {},
     "output_type": "execute_result"
    }
   ],
   "source": [
    "prom = rrd_notas.map(lambda x: (x[0], x[2]))\\\n",
    "                .groupByKey()\\\n",
    "                .map(lambda x: (x[0], \n",
    "                sum(map(lambda y:y+y, list(x[1])))/len(list(x[1]))))\n",
    "             \n",
    "prom.collect()             "
   ]
  },
  {
   "cell_type": "code",
   "execution_count": 32,
   "metadata": {},
   "outputs": [
    {
     "data": {
      "text/plain": [
       "[(100016, 6.5),\n",
       " (100012, 2.0),\n",
       " (100013, 6.0),\n",
       " (100014, 10.0),\n",
       " (100011, 4.666666666666667)]"
      ]
     },
     "execution_count": 32,
     "metadata": {},
     "output_type": "execute_result"
    }
   ],
   "source": [
    "prom_2 = rrd_notas.map(lambda x: (x[0], (x[2],1)))\\\n",
    "                .reduceByKey(lambda x,y: (x[0]+ y[0], x[1]+y[1]))\\\n",
    "                .map(lambda x: (x[0], x[1][0] /x[1][1]))\n",
    "                             \n",
    "prom_2.collect()"
   ]
  },
  {
   "cell_type": "code",
   "execution_count": 60,
   "metadata": {},
   "outputs": [
    {
     "data": {
      "text/plain": [
       "[(100014, 'camila', 'jasto')]"
      ]
     },
     "execution_count": 60,
     "metadata": {},
     "output_type": "execute_result"
    }
   ],
   "source": [
    "alumns = rdd_alumnos.map(lambda x: (x[0], (x[1],x[2])))\n",
    "mejor = prom_2.join(alumns)\\\n",
    "        .sortBy(lambda x: -x[1][0])\\\n",
    "        .map(lambda x: (x[0], x[1][1][0], x[1][1][1]))\\\n",
    "        .take(1)\\\n",
    "\n",
    "#.takeOrdered(1, key=lambda x: -x[1])\n",
    "mejor\n"
   ]
  },
  {
   "cell_type": "code",
   "execution_count": null,
   "metadata": {},
   "outputs": [],
   "source": []
  },
  {
   "cell_type": "code",
   "execution_count": null,
   "metadata": {},
   "outputs": [],
   "source": [
    "# rdd productos de ventas (fecha, codigo prod, precio) otro rdd detalles\n",
    "# (codigo prod, descripcion, categoria)\n",
    "# cual es prod mas vendido\n",
    "# cual es la categoria con mas productos vendidos\n",
    "# cual es el top5 de productos mas vendidos (cod prod, desc, cant ventas)\n",
    "# idem anterior calculando la categoria del productos que registro \n",
    "# mayor variacion de precios en el ultimo año"
   ]
  },
  {
   "cell_type": "code",
   "execution_count": 96,
   "metadata": {},
   "outputs": [],
   "source": [
    "prods = [\n",
    "    (20200201, 1, 40),\n",
    "    (20190201, 1, 50),\n",
    "    (20200201, 2, 120),\n",
    "    (20190201, 2, 250),\n",
    "    (20200201, 2, 110),\n",
    "    (20200201, 3, 30),\n",
    "    (20190201, 3, 20),\n",
    "    (20190201, 3, 20),\n",
    "    (20200201, 3, 60),\n",
    "    (20200201, 4, 40),\n",
    "    (20190201, 4, 20),\n",
    "    (20200201, 5, 210),\n",
    "    (20200201, 5, 210),\n",
    "]\n",
    "descr = [\n",
    "    (1, \"des\", 1),\n",
    "    (2, \"des\", 1),\n",
    "    (3, \"des\", 2),\n",
    "    (4, \"des\", 2),\n",
    "    (5, \"des\", 2),\n",
    "]\n",
    "\n",
    "pro =  sc.parallelize(prods)\n",
    "des = sc.parallelize(descr)"
   ]
  },
  {
   "cell_type": "code",
   "execution_count": 65,
   "metadata": {},
   "outputs": [
    {
     "data": {
      "text/plain": [
       "[(3, 4)]"
      ]
     },
     "execution_count": 65,
     "metadata": {},
     "output_type": "execute_result"
    }
   ],
   "source": [
    "mas_ventas = pro.map(lambda x: (x[1], 1))\\\n",
    "                .reduceByKey(lambda x,y: x+y)\\\n",
    "                \n",
    "mas_ventas.takeOrdered(1, key=lambda x: -x[1])"
   ]
  },
  {
   "cell_type": "code",
   "execution_count": 69,
   "metadata": {},
   "outputs": [
    {
     "data": {
      "text/plain": [
       "[(2, 8)]"
      ]
     },
     "execution_count": 69,
     "metadata": {},
     "output_type": "execute_result"
    }
   ],
   "source": [
    "des_cat = des.map(lambda x: (x[0], x[2]))\n",
    "\n",
    "cat_mas_ventas = mas_ventas.join(des_cat)\\\n",
    "                    .map(lambda x: (x[1][1], x[1][0]))\\\n",
    "                    .reduceByKey(lambda x,y: x+y)\\\n",
    "                    .takeOrdered(1, key=lambda x: -x[1])\n",
    "                         \n",
    "cat_mas_ventas                "
   ]
  },
  {
   "cell_type": "code",
   "execution_count": 92,
   "metadata": {},
   "outputs": [],
   "source": [
    "def map_anio(x):\n",
    "    if x>= 20200101:\n",
    "        return 2020\n",
    "    if x<20200101 and x>=20190101:\n",
    "        return 2019"
   ]
  },
  {
   "cell_type": "code",
   "execution_count": 100,
   "metadata": {},
   "outputs": [],
   "source": [
    "def filter_(x):\n",
    "    if len(x) < 2:\n",
    "        return False\n",
    "    an19 = x[0]\n",
    "    an20 = x[1]\n",
    "    if an19[1] > an20[1]:\n",
    "        return False\n",
    "    return True"
   ]
  },
  {
   "cell_type": "code",
   "execution_count": 101,
   "metadata": {},
   "outputs": [
    {
     "data": {
      "text/plain": [
       "[(3, [(2019, 40), (2020, 90)])]"
      ]
     },
     "execution_count": 101,
     "metadata": {},
     "output_type": "execute_result"
    }
   ],
   "source": [
    "aumento_precio = pro.map(lambda x: ((x[1], map_anio(x[0])), x[2]))\\\n",
    "                .reduceByKey(lambda x,y:x+y)\\\n",
    "                .map(lambda x: (x[0][0], (x[0][1],x[1])))\\\n",
    "                .groupByKey()\\\n",
    "                .map(lambda x: (x[0], sorted(list(x[1]))))\\\n",
    "                .filter(lambda x: filter_(x[1]))\\\n",
    "                .takeOrdered(1, key=lambda x: -x[1][1][1])\n",
    "aumento_precio"
   ]
  },
  {
   "cell_type": "code",
   "execution_count": null,
   "metadata": {},
   "outputs": [],
   "source": []
  },
  {
   "cell_type": "code",
   "execution_count": null,
   "metadata": {},
   "outputs": [],
   "source": []
  }
 ],
 "metadata": {
  "kernelspec": {
   "display_name": "Python 3",
   "language": "python",
   "name": "python3"
  },
  "language_info": {
   "codemirror_mode": {
    "name": "ipython",
    "version": 3
   },
   "file_extension": ".py",
   "mimetype": "text/x-python",
   "name": "python",
   "nbconvert_exporter": "python",
   "pygments_lexer": "ipython3",
   "version": "3.6.7"
  }
 },
 "nbformat": 4,
 "nbformat_minor": 2
}
