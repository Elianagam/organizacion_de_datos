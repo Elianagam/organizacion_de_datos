{
 "cells": [
  {
   "cell_type": "markdown",
   "metadata": {},
   "source": [
    "### 1) (***) Tenemos información sobre recetas en 3 RDD de Spark.\n",
    "Recetas: (id_receta, nombre, tiempo_preparación, dificultad)\n",
    "\n",
    "Ingredientes: (id_ingrediente, nombre)\n",
    "\n",
    "Ingredientes por Receta: (id_receta, id_ingrediente, cantidad)\n",
    "#### Se pide:\n",
    "a) Obtener el nombre de todas las\n",
    "recetas que tengan Cordero. (7 puntos)\n",
    "\n",
    "b) Calcular la cantidad total de cada\n",
    "ingrediente si queremos hacer todas las\n",
    "recetas con Cordero que sean fáciles. (8\n",
    "puntos) "
   ]
  },
  {
   "cell_type": "code",
   "execution_count": 45,
   "metadata": {},
   "outputs": [],
   "source": [
    "import pandas as pd"
   ]
  },
  {
   "cell_type": "code",
   "execution_count": 2,
   "metadata": {},
   "outputs": [],
   "source": [
    "import pyspark\n",
    "\n",
    "try: \n",
    "    type(sc)\n",
    "except NameError:\n",
    "    sc = pyspark.SparkContext('local[*]')"
   ]
  },
  {
   "cell_type": "code",
   "execution_count": 3,
   "metadata": {},
   "outputs": [],
   "source": [
    "recetas = [\n",
    "    (1, \"milanesas con ensalada\", 60, \"facil\"),\n",
    "    (4, \"sushi\", 100, \"difícil\"),\n",
    "    (5, \"asado\", 110, \"facil\" ),\n",
    "    (7, \"cordero a la cerveza\", 60, \"facil\"),\n",
    "    (8, \"cordero al disco\", 130, \"dificil\")\n",
    "]"
   ]
  },
  {
   "cell_type": "code",
   "execution_count": 14,
   "metadata": {},
   "outputs": [],
   "source": [
    "ingredientes = [\n",
    "    (1, \"pescado\"),\n",
    "    (2, \"cordero\"),\n",
    "    (3, \"cerveza\"),\n",
    "    (4, \"morron\"),\n",
    "    (5, \"sal\"),\n",
    "    (6, \"vino tinto\"),\n",
    "    (7, \"lechuga\"),\n",
    "    (8, \"salsa\")\n",
    "]"
   ]
  },
  {
   "cell_type": "code",
   "execution_count": 5,
   "metadata": {},
   "outputs": [],
   "source": [
    "ingred_x_receta = [\n",
    "    (5, 2, 1000),\n",
    "    (5, 5, 10),\n",
    "    (4, 1, 500),\n",
    "    (1, 7, 100),\n",
    "    (7, 2, 500),\n",
    "    (7, 3, 1000),\n",
    "    (8, 2, 800),\n",
    "    (8, 4, 100)\n",
    "]"
   ]
  },
  {
   "cell_type": "code",
   "execution_count": 6,
   "metadata": {},
   "outputs": [],
   "source": [
    "recetas_rdd = sc.parallelize(recetas)\n",
    "ingred_recetas_rdd = sc.parallelize(ingred_x_receta)\n",
    "ingredientes_rdd = sc.parallelize(ingredientes)"
   ]
  },
  {
   "cell_type": "code",
   "execution_count": 9,
   "metadata": {},
   "outputs": [
    {
     "data": {
      "text/plain": [
       "[(2, ('cordero', 5)), (2, ('cordero', 7)), (2, ('cordero', 8))]"
      ]
     },
     "execution_count": 9,
     "metadata": {},
     "output_type": "execute_result"
    }
   ],
   "source": [
    "ing = ingredientes_rdd.filter(lambda x: x[1] == \"cordero\" )\n",
    "ing_x_re = ingred_recetas_rdd.map(lambda x: (x[1], x[0]))\n",
    "join1 = ing.join(ing_x_re)\n",
    "join1.collect()"
   ]
  },
  {
   "cell_type": "code",
   "execution_count": 10,
   "metadata": {},
   "outputs": [
    {
     "data": {
      "text/plain": [
       "[(5, ('cordero', 'asado')),\n",
       " (7, ('cordero', 'cordero a la cerveza')),\n",
       " (8, ('cordero', 'cordero al disco'))]"
      ]
     },
     "execution_count": 10,
     "metadata": {},
     "output_type": "execute_result"
    }
   ],
   "source": [
    "recetas_id = join1.map(lambda x: (x[1][1], x[1][0]))\n",
    "recetas = recetas_rdd.map(lambda x: (x[0], x[1]))\n",
    "join2  = recetas_id.join(recetas)\n",
    "join2.collect()"
   ]
  },
  {
   "cell_type": "code",
   "execution_count": 12,
   "metadata": {},
   "outputs": [
    {
     "data": {
      "text/plain": [
       "['asado', 'cordero a la cerveza', 'cordero al disco']"
      ]
     },
     "execution_count": 12,
     "metadata": {},
     "output_type": "execute_result"
    }
   ],
   "source": [
    "fin = join2.map(lambda x: x[1][1])\n",
    "fin.collect()"
   ]
  },
  {
   "cell_type": "code",
   "execution_count": 13,
   "metadata": {},
   "outputs": [],
   "source": [
    "# parte b"
   ]
  },
  {
   "cell_type": "code",
   "execution_count": 38,
   "metadata": {},
   "outputs": [
    {
     "data": {
      "text/plain": [
       "[((1, 7), 100), ((5, 2), 1000), ((5, 5), 10), ((7, 2), 500), ((7, 3), 1000)]"
      ]
     },
     "execution_count": 38,
     "metadata": {},
     "output_type": "execute_result"
    }
   ],
   "source": [
    "facil = recetas_rdd.filter(lambda x: x[3] == \"facil\").map(lambda x: (x[0], None))\n",
    "ingredientes = ingred_recetas_rdd.map(lambda x: (x[0], (x[1],x[2])))\n",
    "join3 = facil.join(ingredientes).map(lambda x: ((x[0], x[1][1][0]), x[1][1][1]))\n",
    "join3.collect() # receta_id, (ingrediente_id, cant)"
   ]
  },
  {
   "cell_type": "code",
   "execution_count": 37,
   "metadata": {},
   "outputs": [
    {
     "data": {
      "text/plain": [
       "[((4, 1), 'pescado'),\n",
       " ((5, 2), 'cordero'),\n",
       " ((7, 2), 'cordero'),\n",
       " ((8, 2), 'cordero'),\n",
       " ((7, 3), 'cerveza'),\n",
       " ((8, 4), 'morron'),\n",
       " ((5, 5), 'sal'),\n",
       " ((1, 7), 'lechuga')]"
      ]
     },
     "execution_count": 37,
     "metadata": {},
     "output_type": "execute_result"
    }
   ],
   "source": [
    "ing_name = ingred_recetas_rdd.map(lambda x: (x[1], x[0])).join(ingredientes_rdd)\\\n",
    "                            .map(lambda x: ((x[1][0], x[0]), x[1][1])) # ing, rec\n",
    "                        \n",
    "ing_name.collect()"
   ]
  },
  {
   "cell_type": "code",
   "execution_count": 43,
   "metadata": {},
   "outputs": [
    {
     "data": {
      "text/plain": [
       "[('cordero', 1500), ('sal', 10), ('cerveza', 1000), ('lechuga', 100)]"
      ]
     },
     "execution_count": 43,
     "metadata": {},
     "output_type": "execute_result"
    }
   ],
   "source": [
    "join4 = join3.join(ing_name).map(lambda x: (x[1][1], x[1][0])).reduceByKey(lambda x,y: x+y)\n",
    "join4.collect()"
   ]
  },
  {
   "cell_type": "markdown",
   "metadata": {},
   "source": [
    "# Pandas\n",
    "2) (***) Dada la exitosa convocatoria de los Juegos Olímpicos de la Juventud por parte del público, sus organizadores realizan distintos análisis para planificar las jornadas finales del certamen. Es por ello que cuentan con información en los siguientes archivos csv:\n",
    "\n",
    "eventos.csv (id_evento, fecha, id_locacion, nombre_evento, id_categoria_deportiva, cantidad_espectadores)\n",
    "\n",
    "locacion.csv (id_locacion, nombre, capacidad, capacidad_extendida, sede, latitud, longitud)\n",
    "\n",
    "categorias_deportivas.csv (id_categoria_deportiva, nombre, año_de_adopcion)\n",
    "\n",
    "El primer archivo cuenta con información de los eventos, indicando la fecha (en formato “YYYY-mm-dd hh:mm:ss”), el lugar donde ocurrió (id_locacion) y la cantidad de espectadores que asistieron. Además se aporta información sobre la categoría deportiva a la cual pertenece el evento. Por otro lado se tiene información sobre las distintas locaciones en la sedes del certamen en las que ocurrieron los eventos. Contamos con información de su capacidad total de espectadores así como de su capacidad extendida (cuantos asientos extras se pueden brindar sobre la capacidad de la locación).\n",
    "## Se desea obtener:\n",
    "\n",
    "a) Nombre de la sede que acumuló la mayor cantidad de espectadores en eventos durante el certamen del 14 al 15 de octubre inclusive. Esto es de vital importancia para distribuir el merchandising oficial del evento, para las fechas finales. (7 pts)\n",
    "\n",
    "b) Nombre del evento y nombre de la categoría deportiva de aquellos eventos cuya cantidad de espectadores superó la capacidad de la locación, más allá de la capacidad extendida. Esto es de vital importancia para detectar problemas de seguridad o si es necesario realizar algún cambio de locación. (8 pts) "
   ]
  },
  {
   "cell_type": "code",
   "execution_count": 46,
   "metadata": {},
   "outputs": [],
   "source": [
    "eventos_data = {\n",
    "        'fecha': [\"2019-10-14 15:10:13\",\"2019-10-15 15:10:13\", \"2019-10-16 15:10:13\", \"2019-09-14 15:10:13\", \"2019-10-14 16:10:13\"],\n",
    "        'id_locacion' : [1,1,2,3,4],\n",
    "        'cantidad_espectadores': [1000, 1500, 3580, 115000, 383],\n",
    "}\n",
    "\n",
    "eventos = pd.DataFrame(eventos_data, columns = ['fecha', 'id_locacion', 'cantidad_espectadores'])"
   ]
  },
  {
   "cell_type": "code",
   "execution_count": 47,
   "metadata": {},
   "outputs": [],
   "source": [
    "locacion_data = {               #cada locacion seria un estadio y la sede es la ciudad donde esta esa locacion\n",
    "    'id_locacion': [1,2,3,4],\n",
    "    'sede' : ['Nueva York', 'Nueva York', 'Miami', 'Nevada']\n",
    "}\n",
    "\n",
    "locacion = pd.DataFrame(locacion_data, columns = ['id_locacion', 'sede'])"
   ]
  },
  {
   "cell_type": "code",
   "execution_count": 64,
   "metadata": {},
   "outputs": [],
   "source": [
    "eventos['fecha'] = pd.to_datetime(eventos['fecha'], errors = 'coerce') \n",
    "ev = eventos.loc[ eventos['fecha'].dt.day.isin([14,15]) &  (eventos['fecha'].dt.month == 10)]"
   ]
  },
  {
   "cell_type": "code",
   "execution_count": 65,
   "metadata": {},
   "outputs": [
    {
     "data": {
      "text/html": [
       "<div>\n",
       "<style scoped>\n",
       "    .dataframe tbody tr th:only-of-type {\n",
       "        vertical-align: middle;\n",
       "    }\n",
       "\n",
       "    .dataframe tbody tr th {\n",
       "        vertical-align: top;\n",
       "    }\n",
       "\n",
       "    .dataframe thead th {\n",
       "        text-align: right;\n",
       "    }\n",
       "</style>\n",
       "<table border=\"1\" class=\"dataframe\">\n",
       "  <thead>\n",
       "    <tr style=\"text-align: right;\">\n",
       "      <th></th>\n",
       "      <th>fecha</th>\n",
       "      <th>id_locacion</th>\n",
       "      <th>cantidad_espectadores</th>\n",
       "    </tr>\n",
       "  </thead>\n",
       "  <tbody>\n",
       "    <tr>\n",
       "      <th>0</th>\n",
       "      <td>2019-10-14 15:10:13</td>\n",
       "      <td>1</td>\n",
       "      <td>1000</td>\n",
       "    </tr>\n",
       "    <tr>\n",
       "      <th>1</th>\n",
       "      <td>2019-10-15 15:10:13</td>\n",
       "      <td>1</td>\n",
       "      <td>1500</td>\n",
       "    </tr>\n",
       "    <tr>\n",
       "      <th>4</th>\n",
       "      <td>2019-10-14 16:10:13</td>\n",
       "      <td>4</td>\n",
       "      <td>383</td>\n",
       "    </tr>\n",
       "  </tbody>\n",
       "</table>\n",
       "</div>"
      ],
      "text/plain": [
       "                fecha  id_locacion  cantidad_espectadores\n",
       "0 2019-10-14 15:10:13            1                   1000\n",
       "1 2019-10-15 15:10:13            1                   1500\n",
       "4 2019-10-14 16:10:13            4                    383"
      ]
     },
     "execution_count": 65,
     "metadata": {},
     "output_type": "execute_result"
    }
   ],
   "source": [
    "ev.head()"
   ]
  },
  {
   "cell_type": "code",
   "execution_count": 72,
   "metadata": {},
   "outputs": [
    {
     "data": {
      "text/html": [
       "<div>\n",
       "<style scoped>\n",
       "    .dataframe tbody tr th:only-of-type {\n",
       "        vertical-align: middle;\n",
       "    }\n",
       "\n",
       "    .dataframe tbody tr th {\n",
       "        vertical-align: top;\n",
       "    }\n",
       "\n",
       "    .dataframe thead th {\n",
       "        text-align: right;\n",
       "    }\n",
       "</style>\n",
       "<table border=\"1\" class=\"dataframe\">\n",
       "  <thead>\n",
       "    <tr style=\"text-align: right;\">\n",
       "      <th></th>\n",
       "      <th>sede</th>\n",
       "      <th>cantidad_espectadores</th>\n",
       "    </tr>\n",
       "  </thead>\n",
       "  <tbody>\n",
       "    <tr>\n",
       "      <th>1</th>\n",
       "      <td>Nueva York</td>\n",
       "      <td>2500</td>\n",
       "    </tr>\n",
       "  </tbody>\n",
       "</table>\n",
       "</div>"
      ],
      "text/plain": [
       "         sede  cantidad_espectadores\n",
       "1  Nueva York                   2500"
      ]
     },
     "execution_count": 72,
     "metadata": {},
     "output_type": "execute_result"
    }
   ],
   "source": [
    "ev.merge(locacion, on='id_locacion').groupby('sede').agg({'cantidad_espectadores': 'sum'})\\\n",
    "            .reset_index().nlargest(1, columns = 'cantidad_espectadores')"
   ]
  },
  {
   "cell_type": "code",
   "execution_count": 99,
   "metadata": {},
   "outputs": [],
   "source": [
    "eventos_b_data = {\n",
    "    'nombre_evento' : ['Evento1', 'Evento2', 'Evento3', 'Evento4'],\n",
    "    'cantidad_espectadores' : [1000, 3000, 1300, 1700],\n",
    "    'id_categoria_deportiva' : [1,1,3,1],\n",
    "    'id_locacion' : [1,2,1,3]    \n",
    "}\n",
    "\n",
    "eventos_b = pd.DataFrame(eventos_b_data, columns = ['nombre_evento','cantidad_espectadores','id_categoria_deportiva','id_locacion'])\n",
    "\n",
    "locacion_b_data = {\n",
    "    'id_locacion': [1,2,3,4],\n",
    "    'sede' : ['Nueva York', 'Nueva York', 'Miami', 'Nevada'],\n",
    "    'capacidad_extendida': [5000, 13000, 9500, 24000],\n",
    "    'capacidad' : [1000, 2000, 1500, 300] \n",
    "}\n",
    "\n",
    "locacion_b = pd.DataFrame(locacion_b_data, columns = ['id_locacion', 'sede', 'capacidad', 'capacidad_extendida'])\n",
    "\n",
    "categorias_deportivas = {\n",
    "    'id_categoria_deportiva' : [1,3],\n",
    "    'nombre' : ['futbol', 'tennis']\n",
    "}\n",
    "\n",
    "categorias = pd.DataFrame(categorias_deportivas, columns = ['id_categoria_deportiva', 'nombre'])"
   ]
  },
  {
   "cell_type": "code",
   "execution_count": null,
   "metadata": {},
   "outputs": [],
   "source": [
    "# eventos.csv (id_evento, fecha, id_locacion, nombre_evento, id_categoria_deportiva, cantidad_espectadores)\n",
    "\n",
    "# locacion.csv (id_locacion, nombre, capacidad, capacidad_extendida, sede, latitud, longitud)\n",
    "\n",
    "# categorias_deportivas.csv (id_categoria_deportiva, nombre, año_de_adopcion)\n"
   ]
  },
  {
   "cell_type": "code",
   "execution_count": 100,
   "metadata": {},
   "outputs": [],
   "source": [
    "total = categorias.merge(eventos_b, on='id_categoria_deportiva').merge(locacion_b, on='id_locacion')\n",
    "total['total_exp'] = total.groupby('id_categoria_deportiva')['cantidad_espectadores'].transform('sum')"
   ]
  },
  {
   "cell_type": "code",
   "execution_count": 103,
   "metadata": {},
   "outputs": [
    {
     "data": {
      "text/html": [
       "<div>\n",
       "<style scoped>\n",
       "    .dataframe tbody tr th:only-of-type {\n",
       "        vertical-align: middle;\n",
       "    }\n",
       "\n",
       "    .dataframe tbody tr th {\n",
       "        vertical-align: top;\n",
       "    }\n",
       "\n",
       "    .dataframe thead th {\n",
       "        text-align: right;\n",
       "    }\n",
       "</style>\n",
       "<table border=\"1\" class=\"dataframe\">\n",
       "  <thead>\n",
       "    <tr style=\"text-align: right;\">\n",
       "      <th></th>\n",
       "      <th>nombre_evento</th>\n",
       "      <th>nombre</th>\n",
       "    </tr>\n",
       "  </thead>\n",
       "  <tbody>\n",
       "    <tr>\n",
       "      <th>0</th>\n",
       "      <td>Evento1</td>\n",
       "      <td>futbol</td>\n",
       "    </tr>\n",
       "  </tbody>\n",
       "</table>\n",
       "</div>"
      ],
      "text/plain": [
       "  nombre_evento  nombre\n",
       "0       Evento1  futbol"
      ]
     },
     "execution_count": 103,
     "metadata": {},
     "output_type": "execute_result"
    }
   ],
   "source": [
    "total.loc[total['total_exp'] > total['capacidad_extendida']][['nombre_evento', 'nombre']]"
   ]
  }
 ],
 "metadata": {
  "kernelspec": {
   "display_name": "Python 3",
   "language": "python",
   "name": "python3"
  },
  "language_info": {
   "codemirror_mode": {
    "name": "ipython",
    "version": 3
   },
   "file_extension": ".py",
   "mimetype": "text/x-python",
   "name": "python",
   "nbconvert_exporter": "python",
   "pygments_lexer": "ipython3",
   "version": "3.6.7"
  }
 },
 "nbformat": 4,
 "nbformat_minor": 2
}
