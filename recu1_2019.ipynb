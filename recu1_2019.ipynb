{
 "cells": [
  {
   "cell_type": "code",
   "execution_count": 2,
   "metadata": {},
   "outputs": [
    {
     "data": {
      "text/plain": [
       "pyspark.context.SparkContext"
      ]
     },
     "execution_count": 2,
     "metadata": {},
     "output_type": "execute_result"
    }
   ],
   "source": [
    "import pyspark\n",
    "try: \n",
    "    type(sc)\n",
    "except NameError:\n",
    "    sc = pyspark.SparkContext('local[*]')    \n",
    "type(sc)"
   ]
  },
  {
   "cell_type": "code",
   "execution_count": 3,
   "metadata": {},
   "outputs": [],
   "source": [
    "modelo = [('marca1', 'modelo1', 'transmicion', 'arg'),\n",
    "          ('marca2', 'modelo2', 'transmicion', 'arg'),\n",
    "          ('marca3', 'modelo3', 'transmicion', 'arg'),\n",
    "          ('marca4', 'modelo4', 'transmicion', 'ury'),\n",
    "          ('marca5', 'modelo5', 'transmicion', 'arg'),\n",
    "          ('marca6', 'modelo6', 'transmicion', 'arg'),\n",
    "          ('marca7', 'modelo7', 'transmicion', 'arg'),\n",
    "         ]"
   ]
  },
  {
   "cell_type": "code",
   "execution_count": 54,
   "metadata": {},
   "outputs": [],
   "source": [
    "ventas = [('marca1', 'modelo1', 20190521, 'con1'),\n",
    "          ('marca1', 'modelo1', 20190522, 'con1'),\n",
    "          ('marca1', 'modelo1', 20180401, 'con1'),\n",
    "          ('marca4', 'modelo4', 20180901, 'con2'),\n",
    "          ('marca4', 'modelo4', 20190401, 'con2'),\n",
    "          ('marca2', 'modelo2', 20180601, 'con2'),\n",
    "          ('marca2', 'modelo2', 20180528, 'con3'),\n",
    "          ('marca2', 'modelo2', 20180312, 'con3'),\n",
    "          ('marca2', 'modelo2', 20180102, 'con3'),\n",
    "          ('marca3', 'modelo3', 20180219, 'con3'),\n",
    "        ]"
   ]
  },
  {
   "cell_type": "code",
   "execution_count": null,
   "metadata": {},
   "outputs": [],
   "source": []
  },
  {
   "cell_type": "code",
   "execution_count": 55,
   "metadata": {},
   "outputs": [],
   "source": [
    "venta = sc.parallelize(ventas)\n",
    "modelos = sc.parallelize(modelo)"
   ]
  },
  {
   "cell_type": "code",
   "execution_count": 13,
   "metadata": {},
   "outputs": [
    {
     "data": {
      "text/plain": [
       "[(('marca1', 'modelo1'), 1),\n",
       " (('marca2', 'modelo2'), 1),\n",
       " (('marca3', 'modelo3'), 1),\n",
       " (('marca5', 'modelo5'), 1),\n",
       " (('marca6', 'modelo6'), 1),\n",
       " (('marca7', 'modelo7'), 1)]"
      ]
     },
     "execution_count": 13,
     "metadata": {},
     "output_type": "execute_result"
    }
   ],
   "source": [
    "m1 = modelos.filter(lambda x: x[3] == 'arg').map(lambda x: ((x[0], x[1]), 1))\n",
    "m1.collect()"
   ]
  },
  {
   "cell_type": "code",
   "execution_count": 79,
   "metadata": {},
   "outputs": [],
   "source": [
    "v1 = venta.map(lambda x: ((x[0], x[1]), (x[2], x[2])))"
   ]
  },
  {
   "cell_type": "code",
   "execution_count": 80,
   "metadata": {},
   "outputs": [
    {
     "data": {
      "text/plain": [
       "[(('marca3', 'modelo3'), (1, (20180219, 20180219))),\n",
       " (('marca1', 'modelo1'), (1, (20190521, 20190521))),\n",
       " (('marca1', 'modelo1'), (1, (20190522, 20190522))),\n",
       " (('marca1', 'modelo1'), (1, (20180401, 20180401))),\n",
       " (('marca2', 'modelo2'), (1, (20180601, 20180601))),\n",
       " (('marca2', 'modelo2'), (1, (20180528, 20180528))),\n",
       " (('marca2', 'modelo2'), (1, (20180312, 20180312))),\n",
       " (('marca2', 'modelo2'), (1, (20180102, 20180102)))]"
      ]
     },
     "execution_count": 80,
     "metadata": {},
     "output_type": "execute_result"
    }
   ],
   "source": [
    "join = m1.join(v1)\n",
    "join.collect()"
   ]
  },
  {
   "cell_type": "code",
   "execution_count": 105,
   "metadata": {},
   "outputs": [],
   "source": [
    "def fechas(x,y):\n",
    "    mayor = x[1][1] if x[1][1] >= y[1][1] else y[1][1]\n",
    "    menor = x[1][1] if x[1][1] < y[1][1] else y[1][1]\n",
    "    return (x[0] + y[0], (mayor, menor))"
   ]
  },
  {
   "cell_type": "code",
   "execution_count": 106,
   "metadata": {},
   "outputs": [
    {
     "data": {
      "text/plain": [
       "[(('marca3', 'modelo3'), (1, (20180219, 20180219))),\n",
       " (('marca1', 'modelo1'), (3, (20190521, 20180401))),\n",
       " (('marca2', 'modelo2'), (4, (20180312, 20180102)))]"
      ]
     },
     "execution_count": 106,
     "metadata": {},
     "output_type": "execute_result"
    }
   ],
   "source": [
    "j1 = join.reduceByKey(fechas)\n",
    "j1.collect()"
   ]
  },
  {
   "cell_type": "code",
   "execution_count": 103,
   "metadata": {},
   "outputs": [],
   "source": [
    "j2 = j1.filter(lambda x: x[1][1][0] < 20180614)\\\n",
    ".map(lambda x: (x[0][0], x[0][1], x[1][0], x[1][1][1], x[1][1][0]))\\\n",
    ".sortBy(lambda x: x[4])"
   ]
  },
  {
   "cell_type": "code",
   "execution_count": 104,
   "metadata": {},
   "outputs": [
    {
     "data": {
      "text/plain": [
       "[('marca3', 'modelo3', 1, 20180219, 20180219),\n",
       " ('marca2', 'modelo2', 4, 20180102, 20180312)]"
      ]
     },
     "execution_count": 104,
     "metadata": {},
     "output_type": "execute_result"
    }
   ],
   "source": [
    "j2.collect()"
   ]
  },
  {
   "cell_type": "code",
   "execution_count": 107,
   "metadata": {},
   "outputs": [],
   "source": [
    "import pandas"
   ]
  },
  {
   "cell_type": "markdown",
   "metadata": {},
   "source": [
    "# NBA"
   ]
  },
  {
   "cell_type": "code",
   "execution_count": 109,
   "metadata": {},
   "outputs": [],
   "source": [
    "datos_jugadores_regtemp = [\n",
    "    (1, 'Manu Ginobili', 30, 35, 8, 8, 5, 2.2),\n",
    "    (2, 'Kobe Bryant', 40, 30, 3, 5, 20, 2.1),\n",
    "    (3, 'LeBron James', 58, 20, 3, 8, 30, 2.9),\n",
    "    (4, 'Andre Iguodala', 35, 15, 5, 10, 20, 4),\n",
    "    (5, 'Carmelo Anthony', 40, 10, 6, 6, 22, 1.1)\n",
    "]\n",
    "\n",
    "datos_jugadores_po = [\n",
    "    (1, 1, 1, 8, 3, 4, 2, 12, 1),\n",
    "    (1, 1, 3, 4, 1, 5, 2, 15, 1),\n",
    "    (1, 1, 4, 12, 2, 3, 2, 10, 1),\n",
    "    (2, 1, 1, 18, 3, 3, 3, 8, 2),\n",
    "    (2, 1, 4, 9, 3, 4, 1, 5, 1),\n",
    "    (3, 2, 1, 12, 6, 4, 1, 3, 1),\n",
    "    (3, 2, 2, 15, 8, 5, 3, 7, 1),\n",
    "    (3, 2, 3, 22, 6, 2, 1, 4, 2),\n",
    "    (3, 2, 4, 18, 10, 4, 2, 4, 1),\n",
    "    (4, 2, 1, 12, 2, 1, 1, 9, 0),\n",
    "    (4, 2, 2, 25, 8, 4, 2, 4, 3),\n",
    "    (4, 2, 4, 15, 4, 2, 2, 8, 1),\n",
    "    (1, 3, 3, 2, 1, 0, 0, 3, 2),\n",
    "    (5, 3, 1, 8, 1, 2, 0, 6, 0),\n",
    "    (5, 3, 1, 7, 0, 0, 1, 6, 1),\n",
    "]\n",
    "\n",
    "tr = sc.parallelize(datos_jugadores_regtemp)\n",
    "po = sc.parallelize(datos_jugadores_po)"
   ]
  },
  {
   "cell_type": "code",
   "execution_count": 111,
   "metadata": {},
   "outputs": [],
   "source": [
    "po1 = po.map(lambda x: (x[0], x[7])) # cantidas de asistencias, hay que sumarlas\n",
    "tr1 = tr.map(lambda x: (x[0], (x[1], x[3]))) # nombre y promedio, son todos iguales\n",
    "join = po1.join(tr1)"
   ]
  },
  {
   "cell_type": "code",
   "execution_count": 112,
   "metadata": {},
   "outputs": [
    {
     "data": {
      "text/plain": [
       "[(1, (12, ('Manu Ginobili', 35))),\n",
       " (1, (15, ('Manu Ginobili', 35))),\n",
       " (1, (10, ('Manu Ginobili', 35))),\n",
       " (1, (3, ('Manu Ginobili', 35))),\n",
       " (2, (8, ('Kobe Bryant', 30))),\n",
       " (2, (5, ('Kobe Bryant', 30))),\n",
       " (3, (3, ('LeBron James', 20))),\n",
       " (3, (7, ('LeBron James', 20))),\n",
       " (3, (4, ('LeBron James', 20))),\n",
       " (3, (4, ('LeBron James', 20))),\n",
       " (4, (9, ('Andre Iguodala', 15))),\n",
       " (4, (4, ('Andre Iguodala', 15))),\n",
       " (4, (8, ('Andre Iguodala', 15))),\n",
       " (5, (6, ('Carmelo Anthony', 10))),\n",
       " (5, (6, ('Carmelo Anthony', 10)))]"
      ]
     },
     "execution_count": 112,
     "metadata": {},
     "output_type": "execute_result"
    }
   ],
   "source": [
    "join.collect()"
   ]
  },
  {
   "cell_type": "code",
   "execution_count": 122,
   "metadata": {},
   "outputs": [],
   "source": [
    "join1 = join.reduceByKey(lambda x, y: (x[0] + y[0], (x[1][0], x[1][1])))\\\n",
    "                         .filter(lambda x: x[1][0] > x[1][1][1])"
   ]
  },
  {
   "cell_type": "code",
   "execution_count": 123,
   "metadata": {},
   "outputs": [
    {
     "data": {
      "text/plain": [
       "[(1, (40, ('Manu Ginobili', 35))),\n",
       " (4, (21, ('Andre Iguodala', 15))),\n",
       " (5, (12, ('Carmelo Anthony', 10)))]"
      ]
     },
     "execution_count": 123,
     "metadata": {},
     "output_type": "execute_result"
    }
   ],
   "source": [
    "join1.collect()"
   ]
  },
  {
   "cell_type": "code",
   "execution_count": 126,
   "metadata": {},
   "outputs": [
    {
     "data": {
      "text/plain": [
       "['Manu Ginobili', 'Andre Iguodala', 'Carmelo Anthony']"
      ]
     },
     "execution_count": 126,
     "metadata": {},
     "output_type": "execute_result"
    }
   ],
   "source": [
    "join1.map(lambda x: x[1][1][0]).collect()"
   ]
  },
  {
   "cell_type": "markdown",
   "metadata": {},
   "source": [
    "# Anagrama de mas de 7 letras"
   ]
  },
  {
   "cell_type": "code",
   "execution_count": 172,
   "metadata": {},
   "outputs": [],
   "source": [
    "soy_un_7 = 2"
   ]
  },
  {
   "cell_type": "code",
   "execution_count": 153,
   "metadata": {},
   "outputs": [],
   "source": [
    "texto = sc.parallelize(['hola ahlo gato otra agot aloh dada dado duda'])"
   ]
  },
  {
   "cell_type": "code",
   "execution_count": 173,
   "metadata": {},
   "outputs": [],
   "source": [
    "tex = texto.map(lambda x: x.split())\\\n",
    "            .flatMap(lambda x: x)\\\n",
    "            .filter(lambda x: len(x)> soy_un_7)\\\n",
    "            .map(lambda x: (''.join(sorted(x)), [x]))\\\n",
    "            .reduceByKey(lambda x,y: x+y)\\\n",
    "            .filter(lambda x: len(x[1])>1)\\\n",
    "            .map(lambda x: x[1])\\\n",
    "            .collect()"
   ]
  },
  {
   "cell_type": "code",
   "execution_count": 171,
   "metadata": {},
   "outputs": [
    {
     "data": {
      "text/plain": [
       "[['hola', 'ahlo', 'aloh'], ['gato', 'agot']]"
      ]
     },
     "execution_count": 171,
     "metadata": {},
     "output_type": "execute_result"
    }
   ],
   "source": [
    "tex"
   ]
  }
 ],
 "metadata": {
  "kernelspec": {
   "display_name": "Python 3",
   "language": "python",
   "name": "python3"
  },
  "language_info": {
   "codemirror_mode": {
    "name": "ipython",
    "version": 3
   },
   "file_extension": ".py",
   "mimetype": "text/x-python",
   "name": "python",
   "nbconvert_exporter": "python",
   "pygments_lexer": "ipython3",
   "version": "3.6.7"
  }
 },
 "nbformat": 4,
 "nbformat_minor": 2
}
