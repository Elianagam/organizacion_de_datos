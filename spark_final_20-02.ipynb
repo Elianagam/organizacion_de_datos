{
 "cells": [
  {
   "cell_type": "code",
   "execution_count": 100,
   "metadata": {},
   "outputs": [],
   "source": [
    "import pyspark\n",
    "try:\n",
    "    type(sc)\n",
    "except NameError:\n",
    "    sc = pyspark.SparkContext('local[*]')\n",
    "    "
   ]
  },
  {
   "cell_type": "code",
   "execution_count": 146,
   "metadata": {},
   "outputs": [],
   "source": [
    "leyo_resumen = [        \n",
    "    ('sumamary_id_1', 'book_id_1', 'user_id_1', '20200102'),\n",
    "    ('sumamary_id_2', 'book_id_1', 'user_id_2', '20200103'),\n",
    "    ('sumamary_id_2', 'book_id_1', 'user_id_3', '20200104'),\n",
    "    ('sumamary_id_3', 'book_id_2', 'user_id_1', '20200202'),\n",
    "    ('sumamary_id_4', 'book_id_2', 'user_id_4', '20200220'),\n",
    "    ('sumamary_id_3', 'book_id_2', 'user_id_3', '20200124'),\n",
    "    ('sumamary_id_4', 'book_id_3', 'user_id_2', '20200210'),\n",
    "    ('sumamary_id_5', 'book_id_3', 'user_id_4', '20200112'),\n",
    "    ('sumamary_id_6', 'book_id_4', 'user_id_2', '20200214'),\n",
    "    ('sumamary_id_7', 'book_id_4', 'user_id_3', '20200214'),\n",
    "    ('sumamary_id_8', 'book_id_5', 'user_id_2', '20200214'),\n",
    "    ('sumamary_id_9', 'book_id_9', 'user_id_2', '20200214')\n",
    "               ]"
   ]
  },
  {
   "cell_type": "code",
   "execution_count": 147,
   "metadata": {},
   "outputs": [],
   "source": [
    "resumen = [\n",
    "    ('sumamary_id_1', 'book_id_1', 'user_id_4', 'texto'),\n",
    "    ('sumamary_id_2', 'book_id_1', 'user_id_5', 'texto'),\n",
    "    ('sumamary_id_3', 'book_id_2', 'user_id_5', 'texto'),\n",
    "    ('sumamary_id_4', 'book_id_2', 'user_id_2', 'texto'),\n",
    "    ('sumamary_id_5', 'book_id_3', 'user_id_2', 'texto'),\n",
    "    ('sumamary_id_6', 'book_id_4', 'user_id_1', 'texto'),\n",
    "    ('sumamary_id_7', 'book_id_3', 'user_id_1', 'texto'),\n",
    "    ('sumamary_id_8', 'book_id_5', 'user_id_1', 'texto'),\n",
    "   \n",
    "    \n",
    "]"
   ]
  },
  {
   "cell_type": "code",
   "execution_count": 148,
   "metadata": {},
   "outputs": [],
   "source": [
    "r_leyo = sc.parallelize(leyo_resumen);\n",
    "re = sc.parallelize(resumen);"
   ]
  },
  {
   "cell_type": "code",
   "execution_count": 7,
   "metadata": {},
   "outputs": [],
   "source": [
    "# obtener los libros mas consultados"
   ]
  },
  {
   "cell_type": "code",
   "execution_count": 152,
   "metadata": {
    "scrolled": true
   },
   "outputs": [
    {
     "data": {
      "text/plain": [
       "[('book_id_1', 1, 'sumamary_id_2'),\n",
       " ('book_id_2', 2, 'sumamary_id_3'),\n",
       " ('book_id_4', 3, 'sumamary_id_7'),\n",
       " ('book_id_5', 5, 'sumamary_id_8'),\n",
       " ('book_id_9', 6, 'sumamary_id_9'),\n",
       " ('book_id_3', 4, 'sumamary_id_4')]"
      ]
     },
     "execution_count": 152,
     "metadata": {},
     "output_type": "execute_result"
    }
   ],
   "source": [
    "leyo_book = r_leyo.map(lambda x: (x[1], 1))\\\n",
    "            .reduceByKey(lambda x,y: x+y)\\\n",
    "            .sortBy(lambda x: -x[1])\\\n",
    "            .zipWithIndex()\\\n",
    "            .filter(lambda x: x[1] < 10)\\\n",
    "            .map(lambda x: (x[0][0], x[1]+1))\\\n",
    "\n",
    "# cuento libros consultados\n",
    "#oredeno de mayor a menor\n",
    "#agrego index\n",
    "#quito los que no son top 10\n",
    "#como el index va de 0-9 sumo 1\n",
    "\n",
    "sumary_book = r_leyo.map(lambda x: ((x[1],x[0]), 1))\\\n",
    "                    .reduceByKey(lambda x,y: x+y)\\\n",
    "                    .map(lambda x: (x[0][0], (x[0][1], x[1])))\\\n",
    "                    .groupByKey()\\\n",
    "                    .map(lambda x: (x[0], sorted(x[1], key=lambda tup: -tup[1])))\\\n",
    "\n",
    "#mapeo, libro-sumary\n",
    "#cuento lecturas de resumen por libro\n",
    "#mapeo sumary con la cantidad de veces que se leyo\n",
    "#hago lista\n",
    "#ondeno lista por cantidad de lecturas\n",
    "\n",
    "book_sumary = leyo_book.join(sumary_book)\\\n",
    "                        .map(lambda x: (x[0], x[1][0], x[1][1][0][0]))\\\n",
    "\n",
    "#joineo rdd\n",
    "#tomo el libro-index-summary_mas_leido\n",
    "#  x[1][1][1][0], #  x[1][1][2][0]\n",
    "\n",
    "book_sumary.collect()"
   ]
  },
  {
   "cell_type": "code",
   "execution_count": 86,
   "metadata": {},
   "outputs": [],
   "source": [
    "#a = book_sumary.takeOrdered(10, key= lambda x: -x[1][0])"
   ]
  },
  {
   "cell_type": "code",
   "execution_count": 108,
   "metadata": {},
   "outputs": [],
   "source": [
    "#list_final = []\n",
    "#i = 1\n",
    "#for x in a:\n",
    "#    elem = [x[0], i]\n",
    "#    for e in x[1][1]:\n",
    "#        elem.append(e[0])\n",
    "#    i+=1\n",
    "#    list_final.append(elem[:5])"
   ]
  },
  {
   "cell_type": "code",
   "execution_count": 43,
   "metadata": {},
   "outputs": [],
   "source": [
    "import pandas as pd"
   ]
  },
  {
   "cell_type": "code",
   "execution_count": 95,
   "metadata": {},
   "outputs": [],
   "source": [
    "data = pd.DataFrame(list_final, columns=[\"book_id\", \"top_10_position\", \"sumary_id_1\", \"summary_id_2\", \"summary_id_3\"])"
   ]
  },
  {
   "cell_type": "code",
   "execution_count": 96,
   "metadata": {},
   "outputs": [
    {
     "data": {
      "text/html": [
       "<div>\n",
       "<style scoped>\n",
       "    .dataframe tbody tr th:only-of-type {\n",
       "        vertical-align: middle;\n",
       "    }\n",
       "\n",
       "    .dataframe tbody tr th {\n",
       "        vertical-align: top;\n",
       "    }\n",
       "\n",
       "    .dataframe thead th {\n",
       "        text-align: right;\n",
       "    }\n",
       "</style>\n",
       "<table border=\"1\" class=\"dataframe\">\n",
       "  <thead>\n",
       "    <tr style=\"text-align: right;\">\n",
       "      <th></th>\n",
       "      <th>book_id</th>\n",
       "      <th>top_10_position</th>\n",
       "      <th>sumary_id_1</th>\n",
       "      <th>summary_id_2</th>\n",
       "      <th>summary_id_3</th>\n",
       "    </tr>\n",
       "  </thead>\n",
       "  <tbody>\n",
       "    <tr>\n",
       "      <th>0</th>\n",
       "      <td>book_id_1</td>\n",
       "      <td>1</td>\n",
       "      <td>sumamary_id_2</td>\n",
       "      <td>sumamary_id_1</td>\n",
       "      <td>s2</td>\n",
       "    </tr>\n",
       "    <tr>\n",
       "      <th>1</th>\n",
       "      <td>book_id_2</td>\n",
       "      <td>2</td>\n",
       "      <td>sumamary_id_3</td>\n",
       "      <td>sumamary_id_4</td>\n",
       "      <td>s2</td>\n",
       "    </tr>\n",
       "    <tr>\n",
       "      <th>2</th>\n",
       "      <td>book_id_4</td>\n",
       "      <td>3</td>\n",
       "      <td>sumamary_id_7</td>\n",
       "      <td>sumamary_id_6</td>\n",
       "      <td>s2</td>\n",
       "    </tr>\n",
       "    <tr>\n",
       "      <th>3</th>\n",
       "      <td>book_id_3</td>\n",
       "      <td>4</td>\n",
       "      <td>sumamary_id_4</td>\n",
       "      <td>sumamary_id_5</td>\n",
       "      <td>s2</td>\n",
       "    </tr>\n",
       "    <tr>\n",
       "      <th>4</th>\n",
       "      <td>book_id_5</td>\n",
       "      <td>5</td>\n",
       "      <td>sumamary_id_8</td>\n",
       "      <td>s2</td>\n",
       "      <td>s3</td>\n",
       "    </tr>\n",
       "  </tbody>\n",
       "</table>\n",
       "</div>"
      ],
      "text/plain": [
       "     book_id  top_10_position    sumary_id_1   summary_id_2 summary_id_3\n",
       "0  book_id_1                1  sumamary_id_2  sumamary_id_1           s2\n",
       "1  book_id_2                2  sumamary_id_3  sumamary_id_4           s2\n",
       "2  book_id_4                3  sumamary_id_7  sumamary_id_6           s2\n",
       "3  book_id_3                4  sumamary_id_4  sumamary_id_5           s2\n",
       "4  book_id_5                5  sumamary_id_8             s2           s3"
      ]
     },
     "execution_count": 96,
     "metadata": {},
     "output_type": "execute_result"
    }
   ],
   "source": [
    "data"
   ]
  },
  {
   "cell_type": "code",
   "execution_count": 53,
   "metadata": {},
   "outputs": [],
   "source": [
    "#data.to_csv(\"data.csv\")"
   ]
  }
 ],
 "metadata": {
  "kernelspec": {
   "display_name": "Python 3",
   "language": "python",
   "name": "python3"
  },
  "language_info": {
   "codemirror_mode": {
    "name": "ipython",
    "version": 3
   },
   "file_extension": ".py",
   "mimetype": "text/x-python",
   "name": "python",
   "nbconvert_exporter": "python",
   "pygments_lexer": "ipython3",
   "version": "3.6.7"
  }
 },
 "nbformat": 4,
 "nbformat_minor": 2
}
