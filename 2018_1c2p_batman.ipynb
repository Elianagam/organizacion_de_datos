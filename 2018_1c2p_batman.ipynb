{
 "cells": [
  {
   "cell_type": "code",
   "execution_count": 2,
   "metadata": {},
   "outputs": [],
   "source": [
    "import pandas as pd\n",
    "import numpy as np"
   ]
  },
  {
   "cell_type": "code",
   "execution_count": 3,
   "metadata": {},
   "outputs": [],
   "source": [
    "policia = {'estado': np.random.randint(1,3, size=30),\n",
    "           'id_caso': range(0,30,1),\n",
    "           'fecha': np.random.randint(1,12, size=30),\n",
    "           'categoria': np.random.choice(list(['robos', 'hurto', 'muerte', 'incendio']), 30)}\n",
    "df = pd.DataFrame(policia)"
   ]
  },
  {
   "cell_type": "code",
   "execution_count": 4,
   "metadata": {},
   "outputs": [
    {
     "data": {
      "text/html": [
       "<div>\n",
       "<style scoped>\n",
       "    .dataframe tbody tr th:only-of-type {\n",
       "        vertical-align: middle;\n",
       "    }\n",
       "\n",
       "    .dataframe tbody tr th {\n",
       "        vertical-align: top;\n",
       "    }\n",
       "\n",
       "    .dataframe thead th {\n",
       "        text-align: right;\n",
       "    }\n",
       "</style>\n",
       "<table border=\"1\" class=\"dataframe\">\n",
       "  <thead>\n",
       "    <tr style=\"text-align: right;\">\n",
       "      <th></th>\n",
       "      <th>categoria</th>\n",
       "      <th>trim</th>\n",
       "      <th>id_caso</th>\n",
       "    </tr>\n",
       "  </thead>\n",
       "  <tbody>\n",
       "    <tr>\n",
       "      <th>0</th>\n",
       "      <td>hurto</td>\n",
       "      <td>0</td>\n",
       "      <td>2</td>\n",
       "    </tr>\n",
       "    <tr>\n",
       "      <th>1</th>\n",
       "      <td>hurto</td>\n",
       "      <td>1</td>\n",
       "      <td>1</td>\n",
       "    </tr>\n",
       "    <tr>\n",
       "      <th>2</th>\n",
       "      <td>hurto</td>\n",
       "      <td>2</td>\n",
       "      <td>4</td>\n",
       "    </tr>\n",
       "    <tr>\n",
       "      <th>3</th>\n",
       "      <td>hurto</td>\n",
       "      <td>3</td>\n",
       "      <td>2</td>\n",
       "    </tr>\n",
       "    <tr>\n",
       "      <th>4</th>\n",
       "      <td>incendio</td>\n",
       "      <td>1</td>\n",
       "      <td>3</td>\n",
       "    </tr>\n",
       "    <tr>\n",
       "      <th>5</th>\n",
       "      <td>incendio</td>\n",
       "      <td>2</td>\n",
       "      <td>1</td>\n",
       "    </tr>\n",
       "    <tr>\n",
       "      <th>6</th>\n",
       "      <td>incendio</td>\n",
       "      <td>3</td>\n",
       "      <td>1</td>\n",
       "    </tr>\n",
       "    <tr>\n",
       "      <th>7</th>\n",
       "      <td>muerte</td>\n",
       "      <td>0</td>\n",
       "      <td>4</td>\n",
       "    </tr>\n",
       "    <tr>\n",
       "      <th>8</th>\n",
       "      <td>muerte</td>\n",
       "      <td>1</td>\n",
       "      <td>2</td>\n",
       "    </tr>\n",
       "    <tr>\n",
       "      <th>9</th>\n",
       "      <td>muerte</td>\n",
       "      <td>2</td>\n",
       "      <td>1</td>\n",
       "    </tr>\n",
       "    <tr>\n",
       "      <th>10</th>\n",
       "      <td>muerte</td>\n",
       "      <td>3</td>\n",
       "      <td>3</td>\n",
       "    </tr>\n",
       "    <tr>\n",
       "      <th>11</th>\n",
       "      <td>robos</td>\n",
       "      <td>0</td>\n",
       "      <td>1</td>\n",
       "    </tr>\n",
       "    <tr>\n",
       "      <th>12</th>\n",
       "      <td>robos</td>\n",
       "      <td>1</td>\n",
       "      <td>1</td>\n",
       "    </tr>\n",
       "    <tr>\n",
       "      <th>13</th>\n",
       "      <td>robos</td>\n",
       "      <td>2</td>\n",
       "      <td>1</td>\n",
       "    </tr>\n",
       "    <tr>\n",
       "      <th>14</th>\n",
       "      <td>robos</td>\n",
       "      <td>3</td>\n",
       "      <td>3</td>\n",
       "    </tr>\n",
       "  </tbody>\n",
       "</table>\n",
       "</div>"
      ],
      "text/plain": [
       "   categoria  trim  id_caso\n",
       "0      hurto     0        2\n",
       "1      hurto     1        1\n",
       "2      hurto     2        4\n",
       "3      hurto     3        2\n",
       "4   incendio     1        3\n",
       "5   incendio     2        1\n",
       "6   incendio     3        1\n",
       "7     muerte     0        4\n",
       "8     muerte     1        2\n",
       "9     muerte     2        1\n",
       "10    muerte     3        3\n",
       "11     robos     0        1\n",
       "12     robos     1        1\n",
       "13     robos     2        1\n",
       "14     robos     3        3"
      ]
     },
     "execution_count": 4,
     "metadata": {},
     "output_type": "execute_result"
    }
   ],
   "source": [
    "df['trim'] = df['fecha']%4\n",
    "# df1 = df.loc[df['estado'] == 2].loc[df['trim'].isin([1,2])]\n",
    "df1 = df.groupby(['categoria', 'trim']).agg({'id_caso': 'count'}).reset_index()\n",
    "df1"
   ]
  },
  {
   "cell_type": "code",
   "execution_count": 5,
   "metadata": {},
   "outputs": [
    {
     "data": {
      "text/plain": [
       "['hurto']"
      ]
     },
     "execution_count": 5,
     "metadata": {},
     "output_type": "execute_result"
    }
   ],
   "source": [
    "df3 = df1.pivot_table(values='id_caso', columns='trim', index='categoria')\n",
    "df3.loc[df3[1] < df3[2]][[1,2]].index.values.tolist()\n",
    "# df3"
   ]
  },
  {
   "cell_type": "code",
   "execution_count": 1,
   "metadata": {},
   "outputs": [
    {
     "data": {
      "text/plain": [
       "pyspark.context.SparkContext"
      ]
     },
     "execution_count": 1,
     "metadata": {},
     "output_type": "execute_result"
    }
   ],
   "source": [
    "import pyspark\n",
    "try: \n",
    "    type(sc)\n",
    "except NameError:\n",
    "    sc = pyspark.SparkContext('local[*]')    \n",
    "type(sc)"
   ]
  },
  {
   "cell_type": "code",
   "execution_count": 63,
   "metadata": {},
   "outputs": [],
   "source": [
    "policia = [(20190123,20,3,'hurto'), (20190126,21,1,'hurto'), (20190221,22,2,'hurto'),\n",
    "           (20190401,28,2,'hurto'), (20190702,31,3,'hurto'), (20190313,30,2,'hurto'),\n",
    "           (20190610,27,2,'hurto'),\n",
    "           (20190526,24,2,'robo'), (20190412,25,2,'robo'), (20190723,26,2,'robo'), \n",
    "           (20190301,30,2,'robo'), (201900523,29,1,'robo'),\n",
    "            ]\n",
    "\n",
    "batman = [(20, 1), (21, 1), (22, 1), (28, 0), (31, 0), (30, 1), (27, 1),\n",
    "            (24, 1), (25, 0), (26, 1), (30, 0), (29, 1)]\n",
    "batman = sc.parallelize(batman);\n",
    "data = sc.parallelize(policia);"
   ]
  },
  {
   "cell_type": "code",
   "execution_count": 17,
   "metadata": {},
   "outputs": [],
   "source": [
    "def trimestre(fecha):\n",
    "    return 1 if fecha>20190401 else 0"
   ]
  },
  {
   "cell_type": "code",
   "execution_count": 39,
   "metadata": {},
   "outputs": [
    {
     "data": {
      "text/plain": [
       "[((0, 'hurto'), [3, 1, 2, 2, 2]),\n",
       " ((1, 'robo'), [2, 2]),\n",
       " ((1, 'hurto'), [2]),\n",
       " ((0, 'robo'), [2])]"
      ]
     },
     "execution_count": 39,
     "metadata": {},
     "output_type": "execute_result"
    }
   ],
   "source": [
    "resuelto =2\n",
    "d1 = data.filter(lambda x: x[0] >= 20190101 and x[0] < 20190701)\\\n",
    "            .map(lambda x: ((trimestre(x[0]), x[3]), x[2]))\\\n",
    "            .groupByKey()\\\n",
    "            .mapValues(list)\n",
    "d1.collect()"
   ]
  },
  {
   "cell_type": "code",
   "execution_count": 51,
   "metadata": {},
   "outputs": [
    {
     "data": {
      "text/plain": [
       "[('hurto', (0, 0.6)),\n",
       " ('robo', (1, 1.0)),\n",
       " ('hurto', (1, 1.0)),\n",
       " ('robo', (0, 1.0))]"
      ]
     },
     "execution_count": 51,
     "metadata": {},
     "output_type": "execute_result"
    }
   ],
   "source": [
    "d2 = d1.map(lambda x: (x[0][1], (x[0][0], sum(1 for i in x[1] if i == 2) / len(x[1]))))\n",
    "d2.collect()"
   ]
  },
  {
   "cell_type": "code",
   "execution_count": 60,
   "metadata": {},
   "outputs": [],
   "source": [
    "def filter_(x,y):\n",
    "    if (x[0]>y[0] and x[1]>= (1.1*y[1])):\n",
    "        return (x)\n",
    "    if (y[0]>x[0] and y[1]>= (1.1*x[1])):\n",
    "        return (y)\n",
    "        \n",
    "# esto es horrible"
   ]
  },
  {
   "cell_type": "code",
   "execution_count": 62,
   "metadata": {},
   "outputs": [
    {
     "data": {
      "text/plain": [
       "['hurto']"
      ]
     },
     "execution_count": 62,
     "metadata": {},
     "output_type": "execute_result"
    }
   ],
   "source": [
    "d2.reduceByKey(filter_).filter(lambda x: x[1] != None).map(lambda x: x[0]).collect()"
   ]
  },
  {
   "cell_type": "code",
   "execution_count": 101,
   "metadata": {},
   "outputs": [],
   "source": [
    "policia = data.map(lambda x: (x[1], x[3]))\\\n",
    "                .join(batman)\\\n",
    "                .map(lambda x: (x[1]))\\\n",
    "                .groupByKey()\\\n",
    "                .mapValues(list)\\\n",
    "                .map(lambda x: (x[0], sum(1 for i in x[1] if i == 1) / len(x[1])))"
   ]
  },
  {
   "cell_type": "code",
   "execution_count": 100,
   "metadata": {},
   "outputs": [
    {
     "data": {
      "text/plain": [
       "[('robo', 0.6666666666666666), ('hurto', 0.625)]"
      ]
     },
     "execution_count": 100,
     "metadata": {},
     "output_type": "execute_result"
    }
   ],
   "source": [
    "policia.collect()"
   ]
  },
  {
   "cell_type": "code",
   "execution_count": null,
   "metadata": {},
   "outputs": [],
   "source": []
  }
 ],
 "metadata": {
  "kernelspec": {
   "display_name": "Python 3",
   "language": "python",
   "name": "python3"
  },
  "language_info": {
   "codemirror_mode": {
    "name": "ipython",
    "version": 3
   },
   "file_extension": ".py",
   "mimetype": "text/x-python",
   "name": "python",
   "nbconvert_exporter": "python",
   "pygments_lexer": "ipython3",
   "version": "3.6.7"
  }
 },
 "nbformat": 4,
 "nbformat_minor": 2
}
