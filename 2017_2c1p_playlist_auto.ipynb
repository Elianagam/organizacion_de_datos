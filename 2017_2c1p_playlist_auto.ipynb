{
 "cells": [
  {
   "cell_type": "code",
   "execution_count": 1,
   "metadata": {},
   "outputs": [],
   "source": [
    "import pyspark\n",
    "try:\n",
    "    type(sc)\n",
    "except NameError:\n",
    "    sc = pyspark.SparkContext('local[*]')"
   ]
  },
  {
   "cell_type": "markdown",
   "metadata": {},
   "source": [
    "1) Se cuenta con un RDD con información sobre patentamientos\n",
    "de autos con la siguiente información (patente, marca, modelo, versión, tipo_vehiculo, provincia, fecha), donde tipo_vehiculo indica si la unidad patentada es auto, pickup, camión o moto.\n",
    "\n",
    "Se pide generar un programa en pySpark que indique la marca y modelo del auto más patentado por tipo de vehículo en la provincia de Buenos Aires en el mes de Abril de 2019. (***) (15 pts)"
   ]
  },
  {
   "cell_type": "code",
   "execution_count": 10,
   "metadata": {},
   "outputs": [],
   "source": [
    "autos = [('abc 123', 'marca1', 'modelo1', 'version1', 'auto', 'Bs As', '20190401'),\n",
    "        ('abc 124', 'marca1', 'modelo1', 'version2', 'auto', 'Bs As', '20190401'),\n",
    "        ('abc 125', 'marca7', 'modelo7', 'version3', 'moto', 'Bs As', '20190401'),\n",
    "        ('abc 126', 'marca4', 'modelo4', 'version4', 'auto', 'Cordoba', '20190401'),\n",
    "        ('abc 127', 'marca5', 'modelo5', 'version5', 'camion', 'Bs As', '20190401'),\n",
    "        ('abc 128', 'marca1', 'modelo1', 'version6', 'auto', 'Bs As', '20190401'),\n",
    "        ('abc 129', 'marca7', 'modelo7', 'version7', 'moto', 'Bs As', '20190401'),\n",
    "        ('abc 133', 'marca1', 'modelo1', 'version8', 'auto', 'Bs As', '20190401'),\n",
    "        ('abc 143', 'marca9', 'modelo9', 'version9', 'auto', 'Bs As', '20190401'),\n",
    "        ('abc 153', 'marca9', 'modelo9', 'version10', 'auto', 'Bs As', '20190401'),\n",
    "        ('abc 163', 'marca11', 'modelo11', 'version11', 'moto', 'Bs As', '20190401'),\n",
    "        ('abc 173', 'marca12', 'modelo12', 'version12', 'auto', 'Bs As', '20190301'),\n",
    "        ('abc 183', 'marca12', 'modelo12', 'version13', 'auto', 'Bs As', '20190501')]"
   ]
  },
  {
   "cell_type": "code",
   "execution_count": 11,
   "metadata": {},
   "outputs": [],
   "source": [
    "auto = sc.parallelize(autos);"
   ]
  },
  {
   "cell_type": "code",
   "execution_count": 24,
   "metadata": {},
   "outputs": [
    {
     "data": {
      "text/plain": [
       "[(('camion', 'marca5', 'modelo5'), 1),\n",
       " (('moto', 'marca11', 'modelo11'), 1),\n",
       " (('auto', 'marca1', 'modelo1'), 4),\n",
       " (('moto', 'marca7', 'modelo7'), 2),\n",
       " (('auto', 'marca9', 'modelo9'), 2)]"
      ]
     },
     "execution_count": 24,
     "metadata": {},
     "output_type": "execute_result"
    }
   ],
   "source": [
    "a1 = auto.filter(lambda x: x[5] == 'Bs As' and x[6][5] == '4')\\\n",
    "            .map(lambda x: ((x[4],x[1], x[2]), 1))\\\n",
    "            .reduceByKey(lambda x,y: x+y)\n",
    "a1.collect()"
   ]
  },
  {
   "cell_type": "code",
   "execution_count": 26,
   "metadata": {},
   "outputs": [
    {
     "data": {
      "text/plain": [
       "[('auto', 'marca1', 'modelo1'),\n",
       " ('moto', 'marca7', 'modelo7'),\n",
       " ('camion', 'marca5', 'modelo5')]"
      ]
     },
     "execution_count": 26,
     "metadata": {},
     "output_type": "execute_result"
    }
   ],
   "source": [
    "a2 = a1.map(lambda x: (x[0][0], (x[0][1], x[0][2], x[1])))\\\n",
    "    .reduceByKey(lambda x, y: (x) if x[2]>y[2] else (y))\\\n",
    "    .map(lambda x: (x[0], x[1][0], x[1][1]))\n",
    "a2.collect()"
   ]
  },
  {
   "cell_type": "markdown",
   "metadata": {},
   "source": [
    "2) Tenemos un dataframe con la información de distintas playlists\n",
    "armadas por usuarios con el formato (playlist, song_id, description). A su vez, contamos con un dataframe de canciones que contiene (song_id, singer, year, lenght, genres).\n",
    "\n",
    "Se pide generar un programa en Pandas que indique para cada playlist cual es el cantante predominante (con mas canciones incluidas dentro de esa lista). (**) (15 pts)"
   ]
  },
  {
   "cell_type": "code",
   "execution_count": 29,
   "metadata": {},
   "outputs": [],
   "source": [
    "import pandas as pd"
   ]
  },
  {
   "cell_type": "code",
   "execution_count": 31,
   "metadata": {},
   "outputs": [],
   "source": [
    "playlist = {'playlist': [11,11,11,14,15,\n",
    "                         15,17,17,19,19,\n",
    "                         17,17,19,11,15,\n",
    "                         15],\n",
    "           'song_id': [1,2,3,4,1,\n",
    "                       6,2,8,9,1,\n",
    "                       1,2,3,1,2,\n",
    "                      3],\n",
    "           'description': ['sd','sd','sd','sd','sd',\n",
    "                           'sd','sd','sd','sd', 'sd',\n",
    "                          'sd','sd','sd','sd','sd','sd']}\n",
    "\n",
    "canciones = {'song_id': [1,2,3,4,5,6,7,8,9],\n",
    "            'singer': ['s1', 's1', 's1', 's4', 's5', 's6', 's7', 's8', 's9'],\n",
    "            'year': ['2019', '2018','2019', '2018','2019', '2018','2019', '2018','2019'],\n",
    "            'lenght': [4,5,6,7,4,4,4,4,4]}\n",
    "\n",
    "play = pd.DataFrame(playlist)\n",
    "song = pd.DataFrame(canciones)"
   ]
  },
  {
   "cell_type": "code",
   "execution_count": 32,
   "metadata": {},
   "outputs": [],
   "source": [
    "p1 = play[['playlist', 'song_id']].merge(song[['song_id', 'singer']], how='inner', on='song_id')"
   ]
  },
  {
   "cell_type": "code",
   "execution_count": 35,
   "metadata": {},
   "outputs": [
    {
     "data": {
      "text/html": [
       "<div>\n",
       "<style scoped>\n",
       "    .dataframe tbody tr th:only-of-type {\n",
       "        vertical-align: middle;\n",
       "    }\n",
       "\n",
       "    .dataframe tbody tr th {\n",
       "        vertical-align: top;\n",
       "    }\n",
       "\n",
       "    .dataframe thead th {\n",
       "        text-align: right;\n",
       "    }\n",
       "</style>\n",
       "<table border=\"1\" class=\"dataframe\">\n",
       "  <thead>\n",
       "    <tr style=\"text-align: right;\">\n",
       "      <th></th>\n",
       "      <th>playlist</th>\n",
       "      <th>song_id</th>\n",
       "      <th>singer</th>\n",
       "    </tr>\n",
       "  </thead>\n",
       "  <tbody>\n",
       "    <tr>\n",
       "      <th>0</th>\n",
       "      <td>11</td>\n",
       "      <td>1</td>\n",
       "      <td>s1</td>\n",
       "    </tr>\n",
       "    <tr>\n",
       "      <th>1</th>\n",
       "      <td>15</td>\n",
       "      <td>1</td>\n",
       "      <td>s1</td>\n",
       "    </tr>\n",
       "    <tr>\n",
       "      <th>2</th>\n",
       "      <td>19</td>\n",
       "      <td>1</td>\n",
       "      <td>s1</td>\n",
       "    </tr>\n",
       "    <tr>\n",
       "      <th>3</th>\n",
       "      <td>17</td>\n",
       "      <td>1</td>\n",
       "      <td>s1</td>\n",
       "    </tr>\n",
       "    <tr>\n",
       "      <th>4</th>\n",
       "      <td>11</td>\n",
       "      <td>1</td>\n",
       "      <td>s1</td>\n",
       "    </tr>\n",
       "  </tbody>\n",
       "</table>\n",
       "</div>"
      ],
      "text/plain": [
       "   playlist  song_id singer\n",
       "0        11        1     s1\n",
       "1        15        1     s1\n",
       "2        19        1     s1\n",
       "3        17        1     s1\n",
       "4        11        1     s1"
      ]
     },
     "execution_count": 35,
     "metadata": {},
     "output_type": "execute_result"
    }
   ],
   "source": [
    "p1.head()"
   ]
  },
  {
   "cell_type": "code",
   "execution_count": 112,
   "metadata": {},
   "outputs": [
    {
     "data": {
      "text/html": [
       "<div>\n",
       "<style scoped>\n",
       "    .dataframe tbody tr th:only-of-type {\n",
       "        vertical-align: middle;\n",
       "    }\n",
       "\n",
       "    .dataframe tbody tr th {\n",
       "        vertical-align: top;\n",
       "    }\n",
       "\n",
       "    .dataframe thead th {\n",
       "        text-align: right;\n",
       "    }\n",
       "</style>\n",
       "<table border=\"1\" class=\"dataframe\">\n",
       "  <thead>\n",
       "    <tr style=\"text-align: right;\">\n",
       "      <th></th>\n",
       "      <th>playlist</th>\n",
       "      <th>singer</th>\n",
       "      <th>cant_singer_popular</th>\n",
       "    </tr>\n",
       "  </thead>\n",
       "  <tbody>\n",
       "    <tr>\n",
       "      <th>0</th>\n",
       "      <td>14</td>\n",
       "      <td>s4</td>\n",
       "      <td>1</td>\n",
       "    </tr>\n",
       "    <tr>\n",
       "      <th>1</th>\n",
       "      <td>19</td>\n",
       "      <td>s1</td>\n",
       "      <td>2</td>\n",
       "    </tr>\n",
       "    <tr>\n",
       "      <th>2</th>\n",
       "      <td>15</td>\n",
       "      <td>s1</td>\n",
       "      <td>3</td>\n",
       "    </tr>\n",
       "    <tr>\n",
       "      <th>3</th>\n",
       "      <td>17</td>\n",
       "      <td>s1</td>\n",
       "      <td>3</td>\n",
       "    </tr>\n",
       "    <tr>\n",
       "      <th>4</th>\n",
       "      <td>11</td>\n",
       "      <td>s1</td>\n",
       "      <td>4</td>\n",
       "    </tr>\n",
       "  </tbody>\n",
       "</table>\n",
       "</div>"
      ],
      "text/plain": [
       "   playlist singer  cant_singer_popular\n",
       "0        14     s4                    1\n",
       "1        19     s1                    2\n",
       "2        15     s1                    3\n",
       "3        17     s1                    3\n",
       "4        11     s1                    4"
      ]
     },
     "execution_count": 112,
     "metadata": {},
     "output_type": "execute_result"
    }
   ],
   "source": [
    "p2 = p1.groupby(['playlist', 'singer']).agg({'song_id': 'count'})\\\n",
    "                    .sort_values('song_id').groupby(level=0).tail(1)\\\n",
    "                .reset_index()\n",
    "p2.columns = ['playlist', 'singer', 'cant_singer_popular']\n",
    "p2"
   ]
  }
 ],
 "metadata": {
  "kernelspec": {
   "display_name": "Python 3",
   "language": "python",
   "name": "python3"
  },
  "language_info": {
   "codemirror_mode": {
    "name": "ipython",
    "version": 3
   },
   "file_extension": ".py",
   "mimetype": "text/x-python",
   "name": "python",
   "nbconvert_exporter": "python",
   "pygments_lexer": "ipython3",
   "version": "3.6.7"
  }
 },
 "nbformat": 4,
 "nbformat_minor": 2
}
