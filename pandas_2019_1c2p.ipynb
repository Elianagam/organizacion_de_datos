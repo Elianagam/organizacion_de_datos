{
 "cells": [
  {
   "cell_type": "code",
   "execution_count": 1,
   "metadata": {},
   "outputs": [],
   "source": [
    "import pandas as pd\n",
    "import numpy as np"
   ]
  },
  {
   "cell_type": "code",
   "execution_count": 3,
   "metadata": {},
   "outputs": [],
   "source": [
    "columns = ['symbol', 'date', 'open', 'measure_midday', 'measure_afternoon', 'close', 'volume']\n",
    "acciones = { \n",
    "    'symbol': range(0,15,1),\n",
    "    'date': ['20190521', '20190522', '20190521', '20190521', '20190522', \n",
    "             '20190522', '20190523', '20190523', '20190524', '20190528',\n",
    "             '20190601', '20190601', '20190529', '20190529', '20190530'],\n",
    "    'open': [20, 21, 10, 42, 35,\n",
    "             12, 23, 7, 8, 31,\n",
    "             23, 50, 11, 43, 35]\n",
    "    'measure_midday': [25, 24, 15, 49, 32,\n",
    "                        15, 26, 27, 65, 34,\n",
    "                         20, 20, 15, 4, 42],\n",
    "    'measure_afternoon': np.random.randint(1,100, size=15),\n",
    "    'close': np.random.randint(1,100, size=15),\n",
    "    'volume': np.random.randint(1,50, size=15), \n",
    "}\n",
    "\n",
    "\n",
    "df =  pd.DataFrame(acciones, columns=columns)"
   ]
  },
  {
   "cell_type": "code",
   "execution_count": 29,
   "metadata": {},
   "outputs": [],
   "source": [
    "acc =    {'symbol': [1, 1, 1, 4, 4, 4,\n",
    "                                   8, 10, 10, 12, 50],\n",
    "                        'date': ['20180509', '20190101', '20180304', \n",
    "                                 '20180509', '20190101', '20180304',\n",
    "                                 '20181002', \n",
    "                                 '20190101', '20180304', \n",
    "                                 '20190402', \n",
    "                                 '20190402'],\n",
    "                        'open': [100, 200, 300, 200, 250, 305,\n",
    "                                 400, 500, 300, 220, 201],\n",
    "                            'measure_midday': [150, 250, 230, 450, 540, 300,\n",
    "                                               400, 200, 100, 123, 235],\n",
    "                            'measure_afternoon': [120, 270, 330, 500, 560, 200, \n",
    "                                                  300, 450, 202, 200, 300],\n",
    "                            'close': [105, 300, 400, 600, 720, 500, \n",
    "                                      3000, 200, 200, 300, 400],\n",
    "                            'volume': [20, 10, 20, 30, 21, 20,\n",
    "                                       10, 30, 30, 42, 40] }\n",
    "acciones = pd.DataFrame(acc)\n",
    "\n",
    "\n",
    "syp = pd.DataFrame({\n",
    "                        'symbol': [1, 3, 4, 18, 10],\n",
    "                        'company_name': ['pepe', 'pepe1', 'pepe2', 'pepe120', 'pepe3000']\n",
    "    \n",
    "                    })"
   ]
  },
  {
   "cell_type": "code",
   "execution_count": null,
   "metadata": {},
   "outputs": [],
   "source": [
    "# nombre accion indicado en campo symbol, volumen operado por ese dia\n",
    "# calcular el valor diario del indice de s_p, se calcula como el promedio del valor promedio de las mdiciones que tuvo cada accion ese dia para las acciones que se encuentran en s_p\n",
    "# resultado en (date, index_name, value)"
   ]
  },
  {
   "cell_type": "code",
   "execution_count": 21,
   "metadata": {},
   "outputs": [
    {
     "data": {
      "text/html": [
       "<div>\n",
       "<style scoped>\n",
       "    .dataframe tbody tr th:only-of-type {\n",
       "        vertical-align: middle;\n",
       "    }\n",
       "\n",
       "    .dataframe tbody tr th {\n",
       "        vertical-align: top;\n",
       "    }\n",
       "\n",
       "    .dataframe thead th {\n",
       "        text-align: right;\n",
       "    }\n",
       "</style>\n",
       "<table border=\"1\" class=\"dataframe\">\n",
       "  <thead>\n",
       "    <tr style=\"text-align: right;\">\n",
       "      <th></th>\n",
       "      <th>symbol</th>\n",
       "      <th>date</th>\n",
       "      <th>prom</th>\n",
       "    </tr>\n",
       "  </thead>\n",
       "  <tbody>\n",
       "    <tr>\n",
       "      <th>0</th>\n",
       "      <td>1</td>\n",
       "      <td>20180509</td>\n",
       "      <td>118.75</td>\n",
       "    </tr>\n",
       "    <tr>\n",
       "      <th>1</th>\n",
       "      <td>1</td>\n",
       "      <td>20190101</td>\n",
       "      <td>255.00</td>\n",
       "    </tr>\n",
       "    <tr>\n",
       "      <th>2</th>\n",
       "      <td>1</td>\n",
       "      <td>20180304</td>\n",
       "      <td>315.00</td>\n",
       "    </tr>\n",
       "    <tr>\n",
       "      <th>3</th>\n",
       "      <td>4</td>\n",
       "      <td>20180509</td>\n",
       "      <td>437.50</td>\n",
       "    </tr>\n",
       "    <tr>\n",
       "      <th>4</th>\n",
       "      <td>4</td>\n",
       "      <td>20190101</td>\n",
       "      <td>517.50</td>\n",
       "    </tr>\n",
       "  </tbody>\n",
       "</table>\n",
       "</div>"
      ],
      "text/plain": [
       "   symbol      date    prom\n",
       "0       1  20180509  118.75\n",
       "1       1  20190101  255.00\n",
       "2       1  20180304  315.00\n",
       "3       4  20180509  437.50\n",
       "4       4  20190101  517.50"
      ]
     },
     "execution_count": 21,
     "metadata": {},
     "output_type": "execute_result"
    }
   ],
   "source": [
    "acciones.head()"
   ]
  },
  {
   "cell_type": "code",
   "execution_count": 30,
   "metadata": {},
   "outputs": [],
   "source": [
    "acciones['value']= (acciones['open']+acciones['measure_midday']+acciones['measure_afternoon']+acciones['close']) /4\n",
    "acciones = acciones.drop(columns=['open', 'close', 'measure_midday', 'measure_afternoon', 'volume'])"
   ]
  },
  {
   "cell_type": "code",
   "execution_count": 31,
   "metadata": {},
   "outputs": [],
   "source": [
    "merge = acciones.merge(syp, on='symbol', how='inner')"
   ]
  },
  {
   "cell_type": "code",
   "execution_count": 37,
   "metadata": {},
   "outputs": [],
   "source": [
    "merge = merge.groupby('date').agg({'value': 'mean'})\n",
    "merge['index_name'] = 's&p500'"
   ]
  },
  {
   "cell_type": "code",
   "execution_count": 38,
   "metadata": {},
   "outputs": [
    {
     "data": {
      "text/html": [
       "<div>\n",
       "<style scoped>\n",
       "    .dataframe tbody tr th:only-of-type {\n",
       "        vertical-align: middle;\n",
       "    }\n",
       "\n",
       "    .dataframe tbody tr th {\n",
       "        vertical-align: top;\n",
       "    }\n",
       "\n",
       "    .dataframe thead th {\n",
       "        text-align: right;\n",
       "    }\n",
       "</style>\n",
       "<table border=\"1\" class=\"dataframe\">\n",
       "  <thead>\n",
       "    <tr style=\"text-align: right;\">\n",
       "      <th></th>\n",
       "      <th>value</th>\n",
       "      <th>index_name</th>\n",
       "    </tr>\n",
       "    <tr>\n",
       "      <th>date</th>\n",
       "      <th></th>\n",
       "      <th></th>\n",
       "    </tr>\n",
       "  </thead>\n",
       "  <tbody>\n",
       "    <tr>\n",
       "      <th>20180304</th>\n",
       "      <td>280.583333</td>\n",
       "      <td>s&amp;p500</td>\n",
       "    </tr>\n",
       "    <tr>\n",
       "      <th>20180509</th>\n",
       "      <td>278.125000</td>\n",
       "      <td>s&amp;p500</td>\n",
       "    </tr>\n",
       "    <tr>\n",
       "      <th>20190101</th>\n",
       "      <td>370.000000</td>\n",
       "      <td>s&amp;p500</td>\n",
       "    </tr>\n",
       "  </tbody>\n",
       "</table>\n",
       "</div>"
      ],
      "text/plain": [
       "               value index_name\n",
       "date                           \n",
       "20180304  280.583333     s&p500\n",
       "20180509  278.125000     s&p500\n",
       "20190101  370.000000     s&p500"
      ]
     },
     "execution_count": 38,
     "metadata": {},
     "output_type": "execute_result"
    }
   ],
   "source": [
    "merge.head()"
   ]
  },
  {
   "cell_type": "markdown",
   "metadata": {},
   "source": []
  },
  {
   "cell_type": "code",
   "execution_count": 39,
   "metadata": {},
   "outputs": [
    {
     "data": {
      "text/plain": [
       "Index(['value', 'index_name'], dtype='object')"
      ]
     },
     "execution_count": 39,
     "metadata": {},
     "output_type": "execute_result"
    }
   ],
   "source": [
    "merge.columns"
   ]
  }
 ],
 "metadata": {
  "kernelspec": {
   "display_name": "Python 3",
   "language": "python",
   "name": "python3"
  },
  "language_info": {
   "codemirror_mode": {
    "name": "ipython",
    "version": 3
   },
   "file_extension": ".py",
   "mimetype": "text/x-python",
   "name": "python",
   "nbconvert_exporter": "python",
   "pygments_lexer": "ipython3",
   "version": "3.6.7"
  }
 },
 "nbformat": 4,
 "nbformat_minor": 2
}
