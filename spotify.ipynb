{
 "cells": [
  {
   "cell_type": "code",
   "execution_count": 1,
   "metadata": {},
   "outputs": [],
   "source": [
    "import pyspark\n",
    "try:\n",
    "    type(sc)\n",
    "except NameError:\n",
    "    sc = pyspark.SparkContext('local[*]')"
   ]
  },
  {
   "cell_type": "code",
   "execution_count": 58,
   "metadata": {},
   "outputs": [],
   "source": [
    "spotify = [\n",
    "    ('20190525', 1, 20, 'song1', 'artist1'),\n",
    "    ('20190525', 1, 21, 'song1', 'artist1'),\n",
    "    ('20190525', 1, 30, 'song1', 'artist1'),\n",
    "    ('20190525', 2, 20, 'song1', 'artist1'),\n",
    "    ('20190525', 2, 23, 'song1', 'artist1'),\n",
    "    ('20190525', 2, 21, 'song1', 'artist1'),\n",
    "    ('20190525', 3, 20, 'song1', 'artist1'),\n",
    "    ('20190525', 3, 21, 'song1', 'artist1'),\n",
    "    ('20190525', 4, 21, 'song1', 'artist1'),\n",
    "    \n",
    "    ('20190526', 1, 21, 'song1', 'artist1'),\n",
    "    ('20190526', 1, 20, 'song1', 'artist1'),\n",
    "    ('20190526', 1, 30, 'song1', 'artist1'),\n",
    "    ('20190526', 2, 25, 'song1', 'artist1'),\n",
    "    ('20190526', 2, 21, 'song1', 'artist1'),\n",
    "    ('20190526', 2, 30, 'song1', 'artist1'),\n",
    "    ('20190526', 3, 29, 'song1', 'artist1'),\n",
    "    ('20190526', 3, 21, 'song1', 'artist1'),\n",
    "    ('20190526', 4, 21, 'song1', 'artist1'),\n",
    "    ('20190526', 5, 21, 'song1', 'artist1'),\n",
    "    ('20190526', 6, 21, 'song1', 'artist1'),\n",
    "    \n",
    "    ('20190523', 6, 21, 'song1', 'artist1'),\n",
    "    ('20190523', 7, 21, 'song1', 'artist1'),\n",
    "    \n",
    "]"
   ]
  },
  {
   "cell_type": "code",
   "execution_count": 80,
   "metadata": {},
   "outputs": [],
   "source": [
    "tags_ = [\n",
    "    (20, 'rock'),\n",
    "    (21, 'pop'),\n",
    "    (23, 'clasica'),\n",
    "    (22, 'salsa'),\n",
    "    (25, 'pop'),\n",
    "    (29, 'rock'),\n",
    "    (30, 'cumbia'),\n",
    "]\n",
    "tags = sc.parallelize(tags_);"
   ]
  },
  {
   "cell_type": "code",
   "execution_count": 59,
   "metadata": {},
   "outputs": [],
   "source": [
    "data = sc.parallelize(spotify);\n",
    "ayer = '20190525'\n",
    "hoy = '20190526'"
   ]
  },
  {
   "cell_type": "code",
   "execution_count": 41,
   "metadata": {},
   "outputs": [
    {
     "data": {
      "text/plain": [
       "[((30, '20190525'), 1),\n",
       " ((23, '20190525'), 1),\n",
       " ((30, '20190526'), 2),\n",
       " ((20, '20190525'), 3),\n",
       " ((21, '20190526'), 6),\n",
       " ((25, '20190526'), 1),\n",
       " ((29, '20190526'), 1),\n",
       " ((21, '20190525'), 4),\n",
       " ((20, '20190526'), 1)]"
      ]
     },
     "execution_count": 41,
     "metadata": {},
     "output_type": "execute_result"
    }
   ],
   "source": [
    "\n",
    "rss1 = data.filter(lambda x: x[0] >= ayer and x[0] <= hoy)\\\n",
    "            .map(lambda x: ((x[2], x[0]), 1))\\\n",
    "            .reduceByKey(lambda x, y: x+y)\n",
    "rss1.collect()"
   ]
  },
  {
   "cell_type": "code",
   "execution_count": 68,
   "metadata": {},
   "outputs": [],
   "source": [
    "hoy = data.filter(lambda x: x[0] == '20190526')\\\n",
    "            .map(lambda x: (x[2], 1))\\\n",
    "            .reduceByKey(lambda x,y: x+y)\n",
    "\n",
    "ayer = data.filter(lambda x: x[0] == '20190525' )\\\n",
    "            .map(lambda x: (x[2], 1))\\\n",
    "            .reduceByKey(lambda x,y: x+y)"
   ]
  },
  {
   "cell_type": "code",
   "execution_count": 73,
   "metadata": {},
   "outputs": [
    {
     "data": {
      "text/plain": [
       "[(20, 1), (21, 6), (25, 1), (29, 1), (30, 2)]"
      ]
     },
     "execution_count": 73,
     "metadata": {},
     "output_type": "execute_result"
    }
   ],
   "source": [
    "hoy.collect()"
   ]
  },
  {
   "cell_type": "code",
   "execution_count": 74,
   "metadata": {},
   "outputs": [
    {
     "data": {
      "text/plain": [
       "[(20, 3), (21, 4), (30, 1), (23, 1)]"
      ]
     },
     "execution_count": 74,
     "metadata": {},
     "output_type": "execute_result"
    }
   ],
   "source": [
    "ayer.collect()"
   ]
  },
  {
   "cell_type": "code",
   "execution_count": 78,
   "metadata": {},
   "outputs": [
    {
     "data": {
      "text/plain": [
       "[(20, (3, 1)), (21, (4, 6)), (30, (1, 2))]"
      ]
     },
     "execution_count": 78,
     "metadata": {},
     "output_type": "execute_result"
    }
   ],
   "source": [
    "join = ayer.join(hoy)\n",
    "join.collect()"
   ]
  },
  {
   "cell_type": "code",
   "execution_count": 89,
   "metadata": {},
   "outputs": [],
   "source": [
    "rising = join.filter(lambda x: x[1][1] > x[1][0])\\\n",
    "            .map(lambda x: (x[0], 'rising'))"
   ]
  },
  {
   "cell_type": "code",
   "execution_count": 90,
   "metadata": {},
   "outputs": [],
   "source": [
    "                 \n",
    "new_tags = tags.union(rising)"
   ]
  },
  {
   "cell_type": "code",
   "execution_count": 91,
   "metadata": {},
   "outputs": [
    {
     "data": {
      "text/plain": [
       "[(20, 'rock'),\n",
       " (21, 'pop'),\n",
       " (23, 'clasica'),\n",
       " (22, 'salsa'),\n",
       " (25, 'pop'),\n",
       " (29, 'rock'),\n",
       " (30, 'cumbia'),\n",
       " (21, 'rising'),\n",
       " (30, 'rising')]"
      ]
     },
     "execution_count": 91,
     "metadata": {},
     "output_type": "execute_result"
    }
   ],
   "source": [
    "new_tags.collect()"
   ]
  }
 ],
 "metadata": {
  "kernelspec": {
   "display_name": "Python 3",
   "language": "python",
   "name": "python3"
  },
  "language_info": {
   "codemirror_mode": {
    "name": "ipython",
    "version": 3
   },
   "file_extension": ".py",
   "mimetype": "text/x-python",
   "name": "python",
   "nbconvert_exporter": "python",
   "pygments_lexer": "ipython3",
   "version": "3.6.7"
  }
 },
 "nbformat": 4,
 "nbformat_minor": 2
}
