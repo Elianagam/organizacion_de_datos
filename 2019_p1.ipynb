{
 "cells": [
  {
   "cell_type": "code",
   "execution_count": null,
   "metadata": {},
   "outputs": [],
   "source": [
    "import pyspark\n",
    "try:\n",
    "    type(sc)\n",
    "except NameError:\n",
    "    sc = pyspark.SparkContext('local[*]')"
   ]
  },
  {
   "cell_type": "code",
   "execution_count": 26,
   "metadata": {},
   "outputs": [
    {
     "data": {
      "text/plain": [
       "78"
      ]
     },
     "execution_count": 26,
     "metadata": {},
     "output_type": "execute_result"
    }
   ],
   "source": [
    "#Id_base, nombre, pcia, ciudad, lat, lon\n",
    "datos_bases = [(1,'base1','bs.as','temp',10,10),\n",
    "              (2,'base2','bs.as','lom',10,10),\n",
    "              (3,'base3','bs.as','lan',10,10),\n",
    "              (4,'base4','bs.as','cons',10,10),\n",
    "              (5,'base5','bs.as','ave',10,10),\n",
    "              (6,'base6','salta','salta',10,10)]\n",
    "\n",
    "#Mes, id_base, temperatura, humedad, presion, direccion_viento, velocidad_viento <- Para simplificar \n",
    "                                                                                   #tomo directamente\n",
    "                                                                                   #el mes en lugar de la fecha\n",
    "datos_medic = [(1,1,19.5,99,1,'n',1000),\n",
    "              (1,2,21,99,1,'n',1000),\n",
    "              (1,3,100,99,1,'n',1000),\n",
    "              (2,3,100,99,1,'n',1000),\n",
    "              (1,4,4,99,1,'n',1000),\n",
    "              (1,5,12,99,1,'n',1000),\n",
    "              (2,1,123,99,1,'n',1000),\n",
    "              (2,2,13,99,1,'n',1000),\n",
    "              (2,3,100,99,1,'n',1000),\n",
    "              (2,4,5,99,1,'n',1000),\n",
    "              (2,5,28,99,1,'n',1000),\n",
    "              (2,1,9,99,1,'n',1000),\n",
    "              (2,2,1,99,1,'n',1000),\n",
    "              (2,3,100,99,1,'n',1000),\n",
    "              (2,4,127,99,1,'n',1000),\n",
    "              (2,5,14,99,1,'n',1000),\n",
    "              (3,1,1000,99,1,'n',1000),\n",
    "              (3,1,2,99,1,'n',1000),\n",
    "              (3,2,21,99,1,'n',1000),\n",
    "              (3,3,100,99,1,'n',1000),\n",
    "              (3,4,25,99,1,'n',1000),\n",
    "              (3,5,33,99,1,'n',1000),\n",
    "                             (3,2,12,99,1,'n',1000),\n",
    "              (4,1,14,99,1,'n',1000),\n",
    "              (4,2,13,99,1,'n',1000),\n",
    "              (4,3,100,99,1,'n',1000),\n",
    "              (4,4,12,99,1,'n',1000),\n",
    "              (4,5,15,99,1,'n',1000),\n",
    "              (5,1,19,99,1,'n',1000),\n",
    "              (5,2,23,99,1,'n',1000),\n",
    "              (5,3,100,99,1,'n',1000),\n",
    "              (5,4,1,99,1,'n',1000),\n",
    "              (5,5,33,99,1,'n',1000),\n",
    "              (5,1,41,99,1,'n',1000),\n",
    "              (5,2,2,99,1,'n',1000),\n",
    "              (5,3,100,99,1,'n',1000),\n",
    "              (5,4,44,99,1,'n',1000),\n",
    "              (5,5,33,99,1,'n',1000),\n",
    "              (6,1,1,99,1,'n',1000),\n",
    "              (6,2,2,99,1,'n',1000),\n",
    "              (6,3,100,99,1,'n',1000),\n",
    "              (6,4,3,99,1,'n',1000),\n",
    "              (6,5,1,99,1,'n',1000),\n",
    "              (6,1,22,99,1,'n',1000),\n",
    "              (6,2,33,99,1,'n',1000),\n",
    "              (6,3,100,99,1,'n',1000),\n",
    "              (6,4,22,99,1,'n',1000),\n",
    "              (6,5,11,99,1,'n',1000),\n",
    "              (7,1,11,99,1,'n',1000),\n",
    "              (7,2,11,99,1,'n',1000),\n",
    "              (7,3,100,99,1,'n',1000),\n",
    "              (7,4,11,99,1,'n',1000),\n",
    "              (7,5,11,99,1,'n',1000),\n",
    "              (8,1,11,99,1,'n',1000),\n",
    "              (8,2,11,99,1,'n',1000),\n",
    "              (8,3,100,99,1,'n',1000),\n",
    "              (8,4,11,99,1,'n',1000),\n",
    "              (8,5,11,99,1,'n',1000),\n",
    "              (9,1,11,99,1,'n',1000),\n",
    "               (9,2,11,99,1,'n',1000),\n",
    "                (9,3,100,99,1,'n',1000),\n",
    "              (9,4,11,99,1,'n',1000),\n",
    "              (9,5,11,99,1,'n',1000),\n",
    "              (10,1,11,99,1,'n',1000),\n",
    "              (10,2,11,99,1,'n',1000),\n",
    "              (10,3,100,99,1,'n',1000),\n",
    "              (10,4,11,99,1,'n',1000),\n",
    "              (10,5,11,99,1,'n',1000),\n",
    "              (11,1,11,99,1,'n',1000),\n",
    "              (11,2,11,99,1,'n',1000),\n",
    "              (11,3,100,99,1,'n',1000),\n",
    "              (11,4,11,99,1,'n',1000),\n",
    "              (11,5,11,99,1,'n',1000),\n",
    "              (12,1,11,99,1,'n',1000),\n",
    "              (12,2,11,99,1,'n',1000),\n",
    "              (12,3,100,99,1,'n',1000),\n",
    "              (12,4,11,99,1,'n',1000),\n",
    "              (12,5,11,99,1,'n',1000)]\n",
    "len(datos_medic)"
   ]
  },
  {
   "cell_type": "code",
   "execution_count": 27,
   "metadata": {},
   "outputs": [],
   "source": [
    "rdd_med=sc.parallelize(datos_medic)\n",
    "rdd_bas=sc.parallelize(datos_bases)"
   ]
  },
  {
   "cell_type": "code",
   "execution_count": 16,
   "metadata": {},
   "outputs": [],
   "source": [
    "def take_first(x):\n",
    "    return x[0]\n",
    "\n",
    "def diff_30_per100(x):\n",
    "    diff = False\n",
    "    for i in range(1,len(x[1])):\n",
    "        if ( (abs( (x[1][i][1] - x[1][i-1][1]) / (x[1][i-1][1]) ) > 0.3) ) :\n",
    "            diff = True\n",
    "    return diff"
   ]
  },
  {
   "cell_type": "code",
   "execution_count": 28,
   "metadata": {},
   "outputs": [],
   "source": [
    "rdd_bas_filt=rdd_bas.filter(lambda x: x[2] == 'bs.as').map(lambda x: (x[0],x[1]))"
   ]
  },
  {
   "cell_type": "code",
   "execution_count": 30,
   "metadata": {},
   "outputs": [],
   "source": [
    "# se agrupa ((id_base, mes), (temperatura, #cantidad))\n",
    "rss1 = rdd_med.map(lambda x: ((x[1],x[0]),(x[2],1)))\\\n",
    "                    .reduceByKey(lambda x,y: (x[0] + y[0],x[1] + y[1]))\n",
    "# rss1.collect()"
   ]
  },
  {
   "cell_type": "code",
   "execution_count": 31,
   "metadata": {},
   "outputs": [],
   "source": [
    "# se promedia: (base_id, (mes, temp/ # cant))\n",
    "rss2 = rss1.map(lambda x: (x[0][0], (x[0][1], x[1][0]/x[1][1]) ) )\n",
    "\n",
    "# rss2.collect()"
   ]
  },
  {
   "cell_type": "code",
   "execution_count": 32,
   "metadata": {},
   "outputs": [
    {
     "data": {
      "text/plain": [
       "[(4,\n",
       "  [(1, 4.0),\n",
       "   (2, 66.0),\n",
       "   (3, 25.0),\n",
       "   (4, 12.0),\n",
       "   (5, 22.5),\n",
       "   (6, 12.5),\n",
       "   (7, 11.0),\n",
       "   (8, 11.0),\n",
       "   (9, 11.0),\n",
       "   (10, 11.0),\n",
       "   (11, 11.0),\n",
       "   (12, 11.0)]),\n",
       " (1,\n",
       "  [(1, 19.5),\n",
       "   (2, 66.0),\n",
       "   (3, 501.0),\n",
       "   (4, 14.0),\n",
       "   (5, 30.0),\n",
       "   (6, 11.5),\n",
       "   (7, 11.0),\n",
       "   (8, 11.0),\n",
       "   (9, 11.0),\n",
       "   (10, 11.0),\n",
       "   (11, 11.0),\n",
       "   (12, 11.0)]),\n",
       " (5,\n",
       "  [(1, 12.0),\n",
       "   (2, 21.0),\n",
       "   (3, 33.0),\n",
       "   (4, 15.0),\n",
       "   (5, 33.0),\n",
       "   (6, 6.0),\n",
       "   (7, 11.0),\n",
       "   (8, 11.0),\n",
       "   (9, 11.0),\n",
       "   (10, 11.0),\n",
       "   (11, 11.0),\n",
       "   (12, 11.0)]),\n",
       " (2,\n",
       "  [(1, 21.0),\n",
       "   (2, 7.0),\n",
       "   (3, 16.5),\n",
       "   (4, 13.0),\n",
       "   (5, 12.5),\n",
       "   (6, 17.5),\n",
       "   (7, 11.0),\n",
       "   (8, 11.0),\n",
       "   (9, 11.0),\n",
       "   (10, 11.0),\n",
       "   (11, 11.0),\n",
       "   (12, 11.0)]),\n",
       " (3,\n",
       "  [(1, 100.0),\n",
       "   (2, 100.0),\n",
       "   (3, 100.0),\n",
       "   (4, 100.0),\n",
       "   (5, 100.0),\n",
       "   (6, 100.0),\n",
       "   (7, 100.0),\n",
       "   (8, 100.0),\n",
       "   (9, 100.0),\n",
       "   (10, 100.0),\n",
       "   (11, 100.0),\n",
       "   (12, 100.0)])]"
      ]
     },
     "execution_count": 32,
     "metadata": {},
     "output_type": "execute_result"
    }
   ],
   "source": [
    "# se agrupa por base y se ordenan los meses de 1 al 12\n",
    "rss3 = rss2.groupByKey()\\\n",
    "            .map(lambda x: (x[0],sorted(list(x[1]), key=take_first) ) )\n",
    "rss3.collect()"
   ]
  },
  {
   "cell_type": "code",
   "execution_count": 33,
   "metadata": {},
   "outputs": [
    {
     "data": {
      "text/plain": [
       "[(4, 1), (1, 1), (5, 1), (2, 1)]"
      ]
     },
     "execution_count": 33,
     "metadata": {},
     "output_type": "execute_result"
    }
   ],
   "source": [
    "# se obtienen los que tuvieron una diferencia mayor al 30%\n",
    "rss4 = rss3.filter(diff_30_per100)\\\n",
    "            .map(lambda x: (x[0],1))\n",
    "rss4.collect()"
   ]
  },
  {
   "cell_type": "code",
   "execution_count": 34,
   "metadata": {},
   "outputs": [
    {
     "data": {
      "text/plain": [
       "[(1, 'base1'), (2, 'base2'), (4, 'base4'), (5, 'base5')]"
      ]
     },
     "execution_count": 34,
     "metadata": {},
     "output_type": "execute_result"
    }
   ],
   "source": [
    "join = rss4.join(rdd_bas_filt)\\\n",
    "                    .map(lambda x: (x[0],x[1][1]))\\\n",
    "                    .collect()\n",
    "join"
   ]
  }
 ],
 "metadata": {
  "kernelspec": {
   "display_name": "Python 3",
   "language": "python",
   "name": "python3"
  },
  "language_info": {
   "codemirror_mode": {
    "name": "ipython",
    "version": 3
   },
   "file_extension": ".py",
   "mimetype": "text/x-python",
   "name": "python",
   "nbconvert_exporter": "python",
   "pygments_lexer": "ipython3",
   "version": "3.6.7"
  }
 },
 "nbformat": 4,
 "nbformat_minor": 2
}
