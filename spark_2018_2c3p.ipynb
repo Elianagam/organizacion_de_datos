{
 "cells": [
  {
   "cell_type": "code",
   "execution_count": 1,
   "metadata": {},
   "outputs": [],
   "source": [
    "import pyspark\n",
    "try:\n",
    "    type(sc)\n",
    "except NameError:\n",
    "    sc = pyspark.SparkContext('local[*]')"
   ]
  },
  {
   "cell_type": "code",
   "execution_count": 2,
   "metadata": {},
   "outputs": [],
   "source": [
    "usuarios = [\n",
    "    (1, \"Ailen\", \"Argentina\", \"20160413\"),\n",
    "    (2, \"Alejandra\", \"Argentina\", \"20160512\"),\n",
    "    (3, \"Paul\", \"Francia\", \"20150521\"),\n",
    "    (4, \"William\", \"Estados Unidos\", \"20140305\"),\n",
    "]\n",
    "\n",
    "usuariosRDD = sc.parallelize(usuarios);\n",
    "\n",
    "publicaciones = [\n",
    "    (30, 1, 20, \"#Me #Photo #aburrida #Calor #hot #nodoymas qué calor\", \"20180412\"),\n",
    "    (22, 2, 5, \"#Hola #Photo #aburrida #nodoymas\", \"20190101\"),\n",
    "    (25, 1, 1, \"#Hola #Photo #friday #quepedo #music\", \"20190101\"),\n",
    "    (21, 3, 2, \"#Photo Me\", \"20190202\"),\n",
    "    (12, 4, 4, \"#hi hola\", \"20180512\"),\n",
    "]\n",
    "\n",
    "publicacionesRDD = sc.parallelize(publicaciones);"
   ]
  },
  {
   "cell_type": "markdown",
   "metadata": {},
   "source": [
    "### Encontrar el top10 de hashtags que más aparecen y que fueron publicados por usuarios de Argentina"
   ]
  },
  {
   "cell_type": "markdown",
   "metadata": {},
   "source": [
    "Instagram almacena en un RDD (id_user, nickname,pais,fecha_alta) y en otro RDD (id_publicacion, id_user, comentario, id_foto, fecha)"
   ]
  },
  {
   "cell_type": "code",
   "execution_count": 42,
   "metadata": {},
   "outputs": [],
   "source": [
    "hashtag_usuario = publicacionesRDD.map(lambda x: (x[1], x[3].split()))\\\n",
    "                    .flatMapValues(lambda x: x)\\\n",
    "                    .filter(lambda x: x[1].startswith(\"#\"))"
   ]
  },
  {
   "cell_type": "code",
   "execution_count": 43,
   "metadata": {},
   "outputs": [
    {
     "data": {
      "text/plain": [
       "[(1, '#Me'),\n",
       " (1, '#Photo'),\n",
       " (1, '#aburrida'),\n",
       " (1, '#Calor'),\n",
       " (1, '#hot'),\n",
       " (1, '#nodoymas'),\n",
       " (2, '#Hola'),\n",
       " (2, '#Photo'),\n",
       " (2, '#aburrida'),\n",
       " (2, '#nodoymas'),\n",
       " (1, '#Hola'),\n",
       " (1, '#Photo'),\n",
       " (1, '#friday'),\n",
       " (1, '#quepedo'),\n",
       " (1, '#music'),\n",
       " (3, '#Photo'),\n",
       " (4, '#hi')]"
      ]
     },
     "execution_count": 43,
     "metadata": {},
     "output_type": "execute_result"
    }
   ],
   "source": [
    "hashtag_usuario.collect()"
   ]
  },
  {
   "cell_type": "code",
   "execution_count": 44,
   "metadata": {},
   "outputs": [
    {
     "data": {
      "text/plain": [
       "[('#hot', ['Argentina']),\n",
       " ('#aburrida', ['Argentina', 'Argentina']),\n",
       " ('#Calor', ['Argentina']),\n",
       " ('#Photo', ['Argentina', 'Argentina', 'Argentina', 'Francia']),\n",
       " ('#friday', ['Argentina']),\n",
       " ('#Hola', ['Argentina', 'Argentina']),\n",
       " ('#hi', ['Estados Unidos']),\n",
       " ('#Me', ['Argentina']),\n",
       " ('#nodoymas', ['Argentina', 'Argentina']),\n",
       " ('#music', ['Argentina']),\n",
       " ('#quepedo', ['Argentina'])]"
      ]
     },
     "execution_count": 44,
     "metadata": {},
     "output_type": "execute_result"
    }
   ],
   "source": [
    "hastag_paises = usuariosRDD.map(lambda x: (x[0], x[2]))\\\n",
    "                    .join(hashtag_usuario)\\\n",
    "                    .map(lambda x: (x[1][1], [x[1][0]]))\\\n",
    "                    .reduceByKey(lambda x, y: x +y )\n",
    "hastag_paises.collect()"
   ]
  },
  {
   "cell_type": "code",
   "execution_count": 35,
   "metadata": {},
   "outputs": [],
   "source": [
    "def filter_argentina(x):\n",
    "    for element in x:\n",
    "        if element != \"Argentina\":\n",
    "            return False\n",
    "    return True"
   ]
  },
  {
   "cell_type": "code",
   "execution_count": 45,
   "metadata": {},
   "outputs": [
    {
     "data": {
      "text/plain": [
       "[('#aburrida', 2),\n",
       " ('#Hola', 2),\n",
       " ('#nodoymas', 2),\n",
       " ('#hot', 1),\n",
       " ('#Calor', 1),\n",
       " ('#friday', 1),\n",
       " ('#Me', 1),\n",
       " ('#music', 1),\n",
       " ('#quepedo', 1)]"
      ]
     },
     "execution_count": 45,
     "metadata": {},
     "output_type": "execute_result"
    }
   ],
   "source": [
    "hashtag_populars_arg = hastag_paises.filter(lambda x: filter_argentina(x[1]))\\\n",
    "            .map(lambda x: (x[0], len(x[1])))\\\n",
    "            .takeOrdered(10, lambda x: -x[1])\n",
    "hashtag_populars_arg"
   ]
  },
  {
   "cell_type": "code",
   "execution_count": 41,
   "metadata": {},
   "outputs": [
    {
     "data": {
      "text/plain": [
       "['#aburrida',\n",
       " '#Hola',\n",
       " '#nodoymas',\n",
       " '#hot',\n",
       " '#Calor',\n",
       " '#friday',\n",
       " '#Me',\n",
       " '#music',\n",
       " '#quepedo']"
      ]
     },
     "execution_count": 41,
     "metadata": {},
     "output_type": "execute_result"
    }
   ],
   "source": [
    "[ a[0] for a in pu3]"
   ]
  },
  {
   "cell_type": "code",
   "execution_count": 122,
   "metadata": {},
   "outputs": [],
   "source": [
    "def filter_dif(listi):\n",
    "    leni = len(listi)\n",
    "    comun = []\n",
    "    for i in range(leni):\n",
    "        for j in range (i+1, leni):\n",
    "            comun.append((listi[i], listi[j]))\n",
    "    return comun\n",
    "\n",
    "# def getCombinations(seq):\n",
    "#     combinations = list()\n",
    "#     for i in range(0,len(seq)):\n",
    "#         for j in range(i+1,len(seq)):\n",
    "#             combinations.append([seq[i],seq[j]])\n",
    "#     return combinations"
   ]
  },
  {
   "cell_type": "code",
   "execution_count": 63,
   "metadata": {},
   "outputs": [],
   "source": [
    "from itertools import permutations"
   ]
  },
  {
   "cell_type": "code",
   "execution_count": 125,
   "metadata": {},
   "outputs": [
    {
     "data": {
      "text/plain": [
       "[(1, 1), (1, 2), (2, 3), (1, 3)]"
      ]
     },
     "execution_count": 125,
     "metadata": {},
     "output_type": "execute_result"
    }
   ],
   "source": [
    "usurios_hashtag_comun = hashtag_usuario.map(lambda x: (x[1], [x[0]]))\\\n",
    "                                        .reduceByKey(lambda x, y: x+y)\\\n",
    "                                        .map(lambda x: sorted(x[1]))\\\n",
    "                                        .filter(lambda x: len(x)>1)\\\n",
    "                                        .map(lambda x: filter_dif(x))\\\n",
    "                                        .flatMap(lambda x: x).distinct()\n",
    "            \n",
    "usurios_hashtag_comun.collect()"
   ]
  },
  {
   "cell_type": "code",
   "execution_count": 104,
   "metadata": {},
   "outputs": [
    {
     "data": {
      "text/plain": [
       "[[1, 2],\n",
       " [1, 2],\n",
       " [1, 2],\n",
       " [1, 2],\n",
       " [1, 2],\n",
       " [1, 2],\n",
       " [1, 2],\n",
       " [1, 1],\n",
       " [1, 3],\n",
       " [1, 2],\n",
       " [1, 2],\n",
       " [2, 3],\n",
       " [1, 1],\n",
       " [1, 2],\n",
       " [1, 3],\n",
       " [1, 3],\n",
       " [2, 3],\n",
       " [1, 3]]"
      ]
     },
     "execution_count": 104,
     "metadata": {},
     "output_type": "execute_result"
    }
   ],
   "source": [
    "usurios_hashtag_comun.map(lambda x: list(permutations(x, 2)))\\\n",
    "                        .flatMap(lambda x: x)\\\n",
    "                        .map(lambda x: sorted(x))\\\n",
    "                        .collect()"
   ]
  },
  {
   "cell_type": "code",
   "execution_count": 87,
   "metadata": {},
   "outputs": [],
   "source": [
    "a = [2,1].sort()\n",
    "a"
   ]
  }
 ],
 "metadata": {
  "kernelspec": {
   "display_name": "Python 3",
   "language": "python",
   "name": "python3"
  },
  "language_info": {
   "codemirror_mode": {
    "name": "ipython",
    "version": 3
   },
   "file_extension": ".py",
   "mimetype": "text/x-python",
   "name": "python",
   "nbconvert_exporter": "python",
   "pygments_lexer": "ipython3",
   "version": "3.6.7"
  }
 },
 "nbformat": 4,
 "nbformat_minor": 2
}
